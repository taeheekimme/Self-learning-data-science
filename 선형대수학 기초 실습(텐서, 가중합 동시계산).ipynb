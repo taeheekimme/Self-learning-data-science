{
  "nbformat": 4,
  "nbformat_minor": 0,
  "metadata": {
    "colab": {
      "name": "선형대수학 기초 실습(텐서, 가중합 동시계산) .ipynb",
      "provenance": [],
      "collapsed_sections": []
    },
    "kernelspec": {
      "name": "python3",
      "display_name": "Python 3"
    }
  },
  "cells": [
    {
      "cell_type": "code",
      "metadata": {
        "id": "VwEgtfmviaQX"
      },
      "source": [
        "import numpy as np\n",
        "import pandas as pd\n",
        "import matplotlib.pyplot as plt\n",
        "from sklearn.datasets import load_iris"
      ],
      "execution_count": 1,
      "outputs": []
    },
    {
      "cell_type": "markdown",
      "metadata": {
        "id": "8cZ-vMImqORC"
      },
      "source": [
        "## Iris 데이터 불러오기\n",
        "* 사이킷런에 내장되어있는 iris데이터를 불러오고 벡터와 행렬에 대해서 알아봅니다."
      ]
    },
    {
      "cell_type": "code",
      "metadata": {
        "id": "Vtd06qoSim8K"
      },
      "source": [
        "iris = load_iris()"
      ],
      "execution_count": 2,
      "outputs": []
    },
    {
      "cell_type": "code",
      "metadata": {
        "colab": {
          "base_uri": "https://localhost:8080/"
        },
        "id": "adSJDxIpi1wC",
        "outputId": "51ed7d11-1681-457c-ab72-15ff39091d0a"
      },
      "source": [
        "# 파이썬은 변수 앞에 타입을 미리 지정해 주지 않기 때문에 데이터가 어떤 타입인지 확인하는 것이 중요합니다.\n",
        "print(type(iris))\n",
        "\n",
        "# 결과를 보아하니 처음 보는 타입"
      ],
      "execution_count": 3,
      "outputs": [
        {
          "output_type": "stream",
          "text": [
            "<class 'sklearn.utils.Bunch'>\n"
          ],
          "name": "stdout"
        }
      ]
    },
    {
      "cell_type": "code",
      "metadata": {
        "colab": {
          "base_uri": "https://localhost:8080/"
        },
        "id": "PXWg9QX9kHeM",
        "outputId": "4ffd22d5-da8d-4c84-95c8-bb6667da7e2e"
      },
      "source": [
        "# bunch가 어떤 타입인지 모르겠으니...일단 출력을 시켜 봅니다\n",
        "print(iris)\n",
        "\n",
        "# {'data': array([[5.1, 3.5, 1.4, 0.2],이 형태는 파이썬의 딕셔너리 형태와 비슷함\n",
        "# array라고 적혀있으니 numpy일 가능성 큼"
      ],
      "execution_count": 4,
      "outputs": [
        {
          "output_type": "stream",
          "text": [
            "{'data': array([[5.1, 3.5, 1.4, 0.2],\n",
            "       [4.9, 3. , 1.4, 0.2],\n",
            "       [4.7, 3.2, 1.3, 0.2],\n",
            "       [4.6, 3.1, 1.5, 0.2],\n",
            "       [5. , 3.6, 1.4, 0.2],\n",
            "       [5.4, 3.9, 1.7, 0.4],\n",
            "       [4.6, 3.4, 1.4, 0.3],\n",
            "       [5. , 3.4, 1.5, 0.2],\n",
            "       [4.4, 2.9, 1.4, 0.2],\n",
            "       [4.9, 3.1, 1.5, 0.1],\n",
            "       [5.4, 3.7, 1.5, 0.2],\n",
            "       [4.8, 3.4, 1.6, 0.2],\n",
            "       [4.8, 3. , 1.4, 0.1],\n",
            "       [4.3, 3. , 1.1, 0.1],\n",
            "       [5.8, 4. , 1.2, 0.2],\n",
            "       [5.7, 4.4, 1.5, 0.4],\n",
            "       [5.4, 3.9, 1.3, 0.4],\n",
            "       [5.1, 3.5, 1.4, 0.3],\n",
            "       [5.7, 3.8, 1.7, 0.3],\n",
            "       [5.1, 3.8, 1.5, 0.3],\n",
            "       [5.4, 3.4, 1.7, 0.2],\n",
            "       [5.1, 3.7, 1.5, 0.4],\n",
            "       [4.6, 3.6, 1. , 0.2],\n",
            "       [5.1, 3.3, 1.7, 0.5],\n",
            "       [4.8, 3.4, 1.9, 0.2],\n",
            "       [5. , 3. , 1.6, 0.2],\n",
            "       [5. , 3.4, 1.6, 0.4],\n",
            "       [5.2, 3.5, 1.5, 0.2],\n",
            "       [5.2, 3.4, 1.4, 0.2],\n",
            "       [4.7, 3.2, 1.6, 0.2],\n",
            "       [4.8, 3.1, 1.6, 0.2],\n",
            "       [5.4, 3.4, 1.5, 0.4],\n",
            "       [5.2, 4.1, 1.5, 0.1],\n",
            "       [5.5, 4.2, 1.4, 0.2],\n",
            "       [4.9, 3.1, 1.5, 0.2],\n",
            "       [5. , 3.2, 1.2, 0.2],\n",
            "       [5.5, 3.5, 1.3, 0.2],\n",
            "       [4.9, 3.6, 1.4, 0.1],\n",
            "       [4.4, 3. , 1.3, 0.2],\n",
            "       [5.1, 3.4, 1.5, 0.2],\n",
            "       [5. , 3.5, 1.3, 0.3],\n",
            "       [4.5, 2.3, 1.3, 0.3],\n",
            "       [4.4, 3.2, 1.3, 0.2],\n",
            "       [5. , 3.5, 1.6, 0.6],\n",
            "       [5.1, 3.8, 1.9, 0.4],\n",
            "       [4.8, 3. , 1.4, 0.3],\n",
            "       [5.1, 3.8, 1.6, 0.2],\n",
            "       [4.6, 3.2, 1.4, 0.2],\n",
            "       [5.3, 3.7, 1.5, 0.2],\n",
            "       [5. , 3.3, 1.4, 0.2],\n",
            "       [7. , 3.2, 4.7, 1.4],\n",
            "       [6.4, 3.2, 4.5, 1.5],\n",
            "       [6.9, 3.1, 4.9, 1.5],\n",
            "       [5.5, 2.3, 4. , 1.3],\n",
            "       [6.5, 2.8, 4.6, 1.5],\n",
            "       [5.7, 2.8, 4.5, 1.3],\n",
            "       [6.3, 3.3, 4.7, 1.6],\n",
            "       [4.9, 2.4, 3.3, 1. ],\n",
            "       [6.6, 2.9, 4.6, 1.3],\n",
            "       [5.2, 2.7, 3.9, 1.4],\n",
            "       [5. , 2. , 3.5, 1. ],\n",
            "       [5.9, 3. , 4.2, 1.5],\n",
            "       [6. , 2.2, 4. , 1. ],\n",
            "       [6.1, 2.9, 4.7, 1.4],\n",
            "       [5.6, 2.9, 3.6, 1.3],\n",
            "       [6.7, 3.1, 4.4, 1.4],\n",
            "       [5.6, 3. , 4.5, 1.5],\n",
            "       [5.8, 2.7, 4.1, 1. ],\n",
            "       [6.2, 2.2, 4.5, 1.5],\n",
            "       [5.6, 2.5, 3.9, 1.1],\n",
            "       [5.9, 3.2, 4.8, 1.8],\n",
            "       [6.1, 2.8, 4. , 1.3],\n",
            "       [6.3, 2.5, 4.9, 1.5],\n",
            "       [6.1, 2.8, 4.7, 1.2],\n",
            "       [6.4, 2.9, 4.3, 1.3],\n",
            "       [6.6, 3. , 4.4, 1.4],\n",
            "       [6.8, 2.8, 4.8, 1.4],\n",
            "       [6.7, 3. , 5. , 1.7],\n",
            "       [6. , 2.9, 4.5, 1.5],\n",
            "       [5.7, 2.6, 3.5, 1. ],\n",
            "       [5.5, 2.4, 3.8, 1.1],\n",
            "       [5.5, 2.4, 3.7, 1. ],\n",
            "       [5.8, 2.7, 3.9, 1.2],\n",
            "       [6. , 2.7, 5.1, 1.6],\n",
            "       [5.4, 3. , 4.5, 1.5],\n",
            "       [6. , 3.4, 4.5, 1.6],\n",
            "       [6.7, 3.1, 4.7, 1.5],\n",
            "       [6.3, 2.3, 4.4, 1.3],\n",
            "       [5.6, 3. , 4.1, 1.3],\n",
            "       [5.5, 2.5, 4. , 1.3],\n",
            "       [5.5, 2.6, 4.4, 1.2],\n",
            "       [6.1, 3. , 4.6, 1.4],\n",
            "       [5.8, 2.6, 4. , 1.2],\n",
            "       [5. , 2.3, 3.3, 1. ],\n",
            "       [5.6, 2.7, 4.2, 1.3],\n",
            "       [5.7, 3. , 4.2, 1.2],\n",
            "       [5.7, 2.9, 4.2, 1.3],\n",
            "       [6.2, 2.9, 4.3, 1.3],\n",
            "       [5.1, 2.5, 3. , 1.1],\n",
            "       [5.7, 2.8, 4.1, 1.3],\n",
            "       [6.3, 3.3, 6. , 2.5],\n",
            "       [5.8, 2.7, 5.1, 1.9],\n",
            "       [7.1, 3. , 5.9, 2.1],\n",
            "       [6.3, 2.9, 5.6, 1.8],\n",
            "       [6.5, 3. , 5.8, 2.2],\n",
            "       [7.6, 3. , 6.6, 2.1],\n",
            "       [4.9, 2.5, 4.5, 1.7],\n",
            "       [7.3, 2.9, 6.3, 1.8],\n",
            "       [6.7, 2.5, 5.8, 1.8],\n",
            "       [7.2, 3.6, 6.1, 2.5],\n",
            "       [6.5, 3.2, 5.1, 2. ],\n",
            "       [6.4, 2.7, 5.3, 1.9],\n",
            "       [6.8, 3. , 5.5, 2.1],\n",
            "       [5.7, 2.5, 5. , 2. ],\n",
            "       [5.8, 2.8, 5.1, 2.4],\n",
            "       [6.4, 3.2, 5.3, 2.3],\n",
            "       [6.5, 3. , 5.5, 1.8],\n",
            "       [7.7, 3.8, 6.7, 2.2],\n",
            "       [7.7, 2.6, 6.9, 2.3],\n",
            "       [6. , 2.2, 5. , 1.5],\n",
            "       [6.9, 3.2, 5.7, 2.3],\n",
            "       [5.6, 2.8, 4.9, 2. ],\n",
            "       [7.7, 2.8, 6.7, 2. ],\n",
            "       [6.3, 2.7, 4.9, 1.8],\n",
            "       [6.7, 3.3, 5.7, 2.1],\n",
            "       [7.2, 3.2, 6. , 1.8],\n",
            "       [6.2, 2.8, 4.8, 1.8],\n",
            "       [6.1, 3. , 4.9, 1.8],\n",
            "       [6.4, 2.8, 5.6, 2.1],\n",
            "       [7.2, 3. , 5.8, 1.6],\n",
            "       [7.4, 2.8, 6.1, 1.9],\n",
            "       [7.9, 3.8, 6.4, 2. ],\n",
            "       [6.4, 2.8, 5.6, 2.2],\n",
            "       [6.3, 2.8, 5.1, 1.5],\n",
            "       [6.1, 2.6, 5.6, 1.4],\n",
            "       [7.7, 3. , 6.1, 2.3],\n",
            "       [6.3, 3.4, 5.6, 2.4],\n",
            "       [6.4, 3.1, 5.5, 1.8],\n",
            "       [6. , 3. , 4.8, 1.8],\n",
            "       [6.9, 3.1, 5.4, 2.1],\n",
            "       [6.7, 3.1, 5.6, 2.4],\n",
            "       [6.9, 3.1, 5.1, 2.3],\n",
            "       [5.8, 2.7, 5.1, 1.9],\n",
            "       [6.8, 3.2, 5.9, 2.3],\n",
            "       [6.7, 3.3, 5.7, 2.5],\n",
            "       [6.7, 3. , 5.2, 2.3],\n",
            "       [6.3, 2.5, 5. , 1.9],\n",
            "       [6.5, 3. , 5.2, 2. ],\n",
            "       [6.2, 3.4, 5.4, 2.3],\n",
            "       [5.9, 3. , 5.1, 1.8]]), 'target': array([0, 0, 0, 0, 0, 0, 0, 0, 0, 0, 0, 0, 0, 0, 0, 0, 0, 0, 0, 0, 0, 0,\n",
            "       0, 0, 0, 0, 0, 0, 0, 0, 0, 0, 0, 0, 0, 0, 0, 0, 0, 0, 0, 0, 0, 0,\n",
            "       0, 0, 0, 0, 0, 0, 1, 1, 1, 1, 1, 1, 1, 1, 1, 1, 1, 1, 1, 1, 1, 1,\n",
            "       1, 1, 1, 1, 1, 1, 1, 1, 1, 1, 1, 1, 1, 1, 1, 1, 1, 1, 1, 1, 1, 1,\n",
            "       1, 1, 1, 1, 1, 1, 1, 1, 1, 1, 1, 1, 2, 2, 2, 2, 2, 2, 2, 2, 2, 2,\n",
            "       2, 2, 2, 2, 2, 2, 2, 2, 2, 2, 2, 2, 2, 2, 2, 2, 2, 2, 2, 2, 2, 2,\n",
            "       2, 2, 2, 2, 2, 2, 2, 2, 2, 2, 2, 2, 2, 2, 2, 2, 2, 2]), 'target_names': array(['setosa', 'versicolor', 'virginica'], dtype='<U10'), 'DESCR': '.. _iris_dataset:\\n\\nIris plants dataset\\n--------------------\\n\\n**Data Set Characteristics:**\\n\\n    :Number of Instances: 150 (50 in each of three classes)\\n    :Number of Attributes: 4 numeric, predictive attributes and the class\\n    :Attribute Information:\\n        - sepal length in cm\\n        - sepal width in cm\\n        - petal length in cm\\n        - petal width in cm\\n        - class:\\n                - Iris-Setosa\\n                - Iris-Versicolour\\n                - Iris-Virginica\\n                \\n    :Summary Statistics:\\n\\n    ============== ==== ==== ======= ===== ====================\\n                    Min  Max   Mean    SD   Class Correlation\\n    ============== ==== ==== ======= ===== ====================\\n    sepal length:   4.3  7.9   5.84   0.83    0.7826\\n    sepal width:    2.0  4.4   3.05   0.43   -0.4194\\n    petal length:   1.0  6.9   3.76   1.76    0.9490  (high!)\\n    petal width:    0.1  2.5   1.20   0.76    0.9565  (high!)\\n    ============== ==== ==== ======= ===== ====================\\n\\n    :Missing Attribute Values: None\\n    :Class Distribution: 33.3% for each of 3 classes.\\n    :Creator: R.A. Fisher\\n    :Donor: Michael Marshall (MARSHALL%PLU@io.arc.nasa.gov)\\n    :Date: July, 1988\\n\\nThe famous Iris database, first used by Sir R.A. Fisher. The dataset is taken\\nfrom Fisher\\'s paper. Note that it\\'s the same as in R, but not as in the UCI\\nMachine Learning Repository, which has two wrong data points.\\n\\nThis is perhaps the best known database to be found in the\\npattern recognition literature.  Fisher\\'s paper is a classic in the field and\\nis referenced frequently to this day.  (See Duda & Hart, for example.)  The\\ndata set contains 3 classes of 50 instances each, where each class refers to a\\ntype of iris plant.  One class is linearly separable from the other 2; the\\nlatter are NOT linearly separable from each other.\\n\\n.. topic:: References\\n\\n   - Fisher, R.A. \"The use of multiple measurements in taxonomic problems\"\\n     Annual Eugenics, 7, Part II, 179-188 (1936); also in \"Contributions to\\n     Mathematical Statistics\" (John Wiley, NY, 1950).\\n   - Duda, R.O., & Hart, P.E. (1973) Pattern Classification and Scene Analysis.\\n     (Q327.D83) John Wiley & Sons.  ISBN 0-471-22361-1.  See page 218.\\n   - Dasarathy, B.V. (1980) \"Nosing Around the Neighborhood: A New System\\n     Structure and Classification Rule for Recognition in Partially Exposed\\n     Environments\".  IEEE Transactions on Pattern Analysis and Machine\\n     Intelligence, Vol. PAMI-2, No. 1, 67-71.\\n   - Gates, G.W. (1972) \"The Reduced Nearest Neighbor Rule\".  IEEE Transactions\\n     on Information Theory, May 1972, 431-433.\\n   - See also: 1988 MLC Proceedings, 54-64.  Cheeseman et al\"s AUTOCLASS II\\n     conceptual clustering system finds 3 classes in the data.\\n   - Many, many more ...', 'feature_names': ['sepal length (cm)', 'sepal width (cm)', 'petal length (cm)', 'petal width (cm)'], 'filename': '/usr/local/lib/python3.6/dist-packages/sklearn/datasets/data/iris.csv'}\n"
          ],
          "name": "stdout"
        }
      ]
    },
    {
      "cell_type": "code",
      "metadata": {
        "colab": {
          "base_uri": "https://localhost:8080/"
        },
        "id": "wQFn6gYgjOnI",
        "outputId": "11cc57fa-4644-4618-cde7-6763c367ce1b"
      },
      "source": [
        "# 무언가 딕셔너리처럼 생겨서 한번 어떤 키들을 가지고 있는지 확인해 봅니다.\n",
        "print(iris.keys())\n",
        "\n",
        "# 이 코드가 실현되므로 딕셔너리 형태임을 확인"
      ],
      "execution_count": 5,
      "outputs": [
        {
          "output_type": "stream",
          "text": [
            "dict_keys(['data', 'target', 'target_names', 'DESCR', 'feature_names', 'filename'])\n"
          ],
          "name": "stdout"
        }
      ]
    },
    {
      "cell_type": "code",
      "metadata": {
        "colab": {
          "base_uri": "https://localhost:8080/"
        },
        "id": "EnNbNfCvi5JZ",
        "outputId": "9bd1d617-6893-4ffa-e1b2-aed383ee7316"
      },
      "source": [
        "# 아까 얼핏 보니 data라는 key에 데이터가 들어있는 듯해 보이니 한번 출력을 해봅니다.\n",
        "print(iris['data'])\n",
        "print('data의 형태', iris['data'].shape)"
      ],
      "execution_count": 6,
      "outputs": [
        {
          "output_type": "stream",
          "text": [
            "[[5.1 3.5 1.4 0.2]\n",
            " [4.9 3.  1.4 0.2]\n",
            " [4.7 3.2 1.3 0.2]\n",
            " [4.6 3.1 1.5 0.2]\n",
            " [5.  3.6 1.4 0.2]\n",
            " [5.4 3.9 1.7 0.4]\n",
            " [4.6 3.4 1.4 0.3]\n",
            " [5.  3.4 1.5 0.2]\n",
            " [4.4 2.9 1.4 0.2]\n",
            " [4.9 3.1 1.5 0.1]\n",
            " [5.4 3.7 1.5 0.2]\n",
            " [4.8 3.4 1.6 0.2]\n",
            " [4.8 3.  1.4 0.1]\n",
            " [4.3 3.  1.1 0.1]\n",
            " [5.8 4.  1.2 0.2]\n",
            " [5.7 4.4 1.5 0.4]\n",
            " [5.4 3.9 1.3 0.4]\n",
            " [5.1 3.5 1.4 0.3]\n",
            " [5.7 3.8 1.7 0.3]\n",
            " [5.1 3.8 1.5 0.3]\n",
            " [5.4 3.4 1.7 0.2]\n",
            " [5.1 3.7 1.5 0.4]\n",
            " [4.6 3.6 1.  0.2]\n",
            " [5.1 3.3 1.7 0.5]\n",
            " [4.8 3.4 1.9 0.2]\n",
            " [5.  3.  1.6 0.2]\n",
            " [5.  3.4 1.6 0.4]\n",
            " [5.2 3.5 1.5 0.2]\n",
            " [5.2 3.4 1.4 0.2]\n",
            " [4.7 3.2 1.6 0.2]\n",
            " [4.8 3.1 1.6 0.2]\n",
            " [5.4 3.4 1.5 0.4]\n",
            " [5.2 4.1 1.5 0.1]\n",
            " [5.5 4.2 1.4 0.2]\n",
            " [4.9 3.1 1.5 0.2]\n",
            " [5.  3.2 1.2 0.2]\n",
            " [5.5 3.5 1.3 0.2]\n",
            " [4.9 3.6 1.4 0.1]\n",
            " [4.4 3.  1.3 0.2]\n",
            " [5.1 3.4 1.5 0.2]\n",
            " [5.  3.5 1.3 0.3]\n",
            " [4.5 2.3 1.3 0.3]\n",
            " [4.4 3.2 1.3 0.2]\n",
            " [5.  3.5 1.6 0.6]\n",
            " [5.1 3.8 1.9 0.4]\n",
            " [4.8 3.  1.4 0.3]\n",
            " [5.1 3.8 1.6 0.2]\n",
            " [4.6 3.2 1.4 0.2]\n",
            " [5.3 3.7 1.5 0.2]\n",
            " [5.  3.3 1.4 0.2]\n",
            " [7.  3.2 4.7 1.4]\n",
            " [6.4 3.2 4.5 1.5]\n",
            " [6.9 3.1 4.9 1.5]\n",
            " [5.5 2.3 4.  1.3]\n",
            " [6.5 2.8 4.6 1.5]\n",
            " [5.7 2.8 4.5 1.3]\n",
            " [6.3 3.3 4.7 1.6]\n",
            " [4.9 2.4 3.3 1. ]\n",
            " [6.6 2.9 4.6 1.3]\n",
            " [5.2 2.7 3.9 1.4]\n",
            " [5.  2.  3.5 1. ]\n",
            " [5.9 3.  4.2 1.5]\n",
            " [6.  2.2 4.  1. ]\n",
            " [6.1 2.9 4.7 1.4]\n",
            " [5.6 2.9 3.6 1.3]\n",
            " [6.7 3.1 4.4 1.4]\n",
            " [5.6 3.  4.5 1.5]\n",
            " [5.8 2.7 4.1 1. ]\n",
            " [6.2 2.2 4.5 1.5]\n",
            " [5.6 2.5 3.9 1.1]\n",
            " [5.9 3.2 4.8 1.8]\n",
            " [6.1 2.8 4.  1.3]\n",
            " [6.3 2.5 4.9 1.5]\n",
            " [6.1 2.8 4.7 1.2]\n",
            " [6.4 2.9 4.3 1.3]\n",
            " [6.6 3.  4.4 1.4]\n",
            " [6.8 2.8 4.8 1.4]\n",
            " [6.7 3.  5.  1.7]\n",
            " [6.  2.9 4.5 1.5]\n",
            " [5.7 2.6 3.5 1. ]\n",
            " [5.5 2.4 3.8 1.1]\n",
            " [5.5 2.4 3.7 1. ]\n",
            " [5.8 2.7 3.9 1.2]\n",
            " [6.  2.7 5.1 1.6]\n",
            " [5.4 3.  4.5 1.5]\n",
            " [6.  3.4 4.5 1.6]\n",
            " [6.7 3.1 4.7 1.5]\n",
            " [6.3 2.3 4.4 1.3]\n",
            " [5.6 3.  4.1 1.3]\n",
            " [5.5 2.5 4.  1.3]\n",
            " [5.5 2.6 4.4 1.2]\n",
            " [6.1 3.  4.6 1.4]\n",
            " [5.8 2.6 4.  1.2]\n",
            " [5.  2.3 3.3 1. ]\n",
            " [5.6 2.7 4.2 1.3]\n",
            " [5.7 3.  4.2 1.2]\n",
            " [5.7 2.9 4.2 1.3]\n",
            " [6.2 2.9 4.3 1.3]\n",
            " [5.1 2.5 3.  1.1]\n",
            " [5.7 2.8 4.1 1.3]\n",
            " [6.3 3.3 6.  2.5]\n",
            " [5.8 2.7 5.1 1.9]\n",
            " [7.1 3.  5.9 2.1]\n",
            " [6.3 2.9 5.6 1.8]\n",
            " [6.5 3.  5.8 2.2]\n",
            " [7.6 3.  6.6 2.1]\n",
            " [4.9 2.5 4.5 1.7]\n",
            " [7.3 2.9 6.3 1.8]\n",
            " [6.7 2.5 5.8 1.8]\n",
            " [7.2 3.6 6.1 2.5]\n",
            " [6.5 3.2 5.1 2. ]\n",
            " [6.4 2.7 5.3 1.9]\n",
            " [6.8 3.  5.5 2.1]\n",
            " [5.7 2.5 5.  2. ]\n",
            " [5.8 2.8 5.1 2.4]\n",
            " [6.4 3.2 5.3 2.3]\n",
            " [6.5 3.  5.5 1.8]\n",
            " [7.7 3.8 6.7 2.2]\n",
            " [7.7 2.6 6.9 2.3]\n",
            " [6.  2.2 5.  1.5]\n",
            " [6.9 3.2 5.7 2.3]\n",
            " [5.6 2.8 4.9 2. ]\n",
            " [7.7 2.8 6.7 2. ]\n",
            " [6.3 2.7 4.9 1.8]\n",
            " [6.7 3.3 5.7 2.1]\n",
            " [7.2 3.2 6.  1.8]\n",
            " [6.2 2.8 4.8 1.8]\n",
            " [6.1 3.  4.9 1.8]\n",
            " [6.4 2.8 5.6 2.1]\n",
            " [7.2 3.  5.8 1.6]\n",
            " [7.4 2.8 6.1 1.9]\n",
            " [7.9 3.8 6.4 2. ]\n",
            " [6.4 2.8 5.6 2.2]\n",
            " [6.3 2.8 5.1 1.5]\n",
            " [6.1 2.6 5.6 1.4]\n",
            " [7.7 3.  6.1 2.3]\n",
            " [6.3 3.4 5.6 2.4]\n",
            " [6.4 3.1 5.5 1.8]\n",
            " [6.  3.  4.8 1.8]\n",
            " [6.9 3.1 5.4 2.1]\n",
            " [6.7 3.1 5.6 2.4]\n",
            " [6.9 3.1 5.1 2.3]\n",
            " [5.8 2.7 5.1 1.9]\n",
            " [6.8 3.2 5.9 2.3]\n",
            " [6.7 3.3 5.7 2.5]\n",
            " [6.7 3.  5.2 2.3]\n",
            " [6.3 2.5 5.  1.9]\n",
            " [6.5 3.  5.2 2. ]\n",
            " [6.2 3.4 5.4 2.3]\n",
            " [5.9 3.  5.1 1.8]]\n",
            "data의 형태 (150, 4)\n"
          ],
          "name": "stdout"
        }
      ]
    },
    {
      "cell_type": "code",
      "metadata": {
        "colab": {
          "base_uri": "https://localhost:8080/"
        },
        "id": "GIAP8uqUi7_5",
        "outputId": "e4adfb3e-8e7b-4273-d78b-0ab39e52c6a5"
      },
      "source": [
        "# 그럼 target에는 우리가 예측하고자 하는 값들이 들어있겠네요?\n",
        "print(iris['target'])\n",
        "print('target의 형태',iris['target'].shape)"
      ],
      "execution_count": 7,
      "outputs": [
        {
          "output_type": "stream",
          "text": [
            "[0 0 0 0 0 0 0 0 0 0 0 0 0 0 0 0 0 0 0 0 0 0 0 0 0 0 0 0 0 0 0 0 0 0 0 0 0\n",
            " 0 0 0 0 0 0 0 0 0 0 0 0 0 1 1 1 1 1 1 1 1 1 1 1 1 1 1 1 1 1 1 1 1 1 1 1 1\n",
            " 1 1 1 1 1 1 1 1 1 1 1 1 1 1 1 1 1 1 1 1 1 1 1 1 1 1 2 2 2 2 2 2 2 2 2 2 2\n",
            " 2 2 2 2 2 2 2 2 2 2 2 2 2 2 2 2 2 2 2 2 2 2 2 2 2 2 2 2 2 2 2 2 2 2 2 2 2\n",
            " 2 2]\n",
            "target의 형태 (150,)\n"
          ],
          "name": "stdout"
        }
      ]
    },
    {
      "cell_type": "code",
      "metadata": {
        "colab": {
          "base_uri": "https://localhost:8080/"
        },
        "id": "ThyxRKW5jFIc",
        "outputId": "d5564a71-c911-480e-a695-25bb8df08e85"
      },
      "source": [
        "# iris['data']는 2차원이므로 매트릭스 -> 대문자로 표시\n",
        "# iris['target']은 1차원이므로 벡터 -> 소문자로 표시\n",
        "X = iris['data']\n",
        "y = iris['target']\n",
        "\n",
        "print(f'첫 번째 붓꽃 데이터 X : {X[0]} y: {y[0]}')"
      ],
      "execution_count": 8,
      "outputs": [
        {
          "output_type": "stream",
          "text": [
            "첫 번째 붓꽃 데이터 X : [5.1 3.5 1.4 0.2] y: 0\n"
          ],
          "name": "stdout"
        }
      ]
    },
    {
      "cell_type": "markdown",
      "metadata": {
        "id": "8ypKoJAsmSVr"
      },
      "source": [
        "## Bunch 타입이란?\n",
        "* Key를 이용하여 데이터를 저장할 수 있는 클래스\n",
        "* 딕셔너리의 경우 dict_ex['key']를 통해서만 데이터를 불러올 수 있지만 Bunch 타입은 dict_ex.key라는 방법을 통해서도 데이터를 불러올 수 있습니다.\n",
        "~~~\n",
        ">>> b = Bunch(a=1, b=2)\n",
        ">>> b['b']\n",
        "2\n",
        ">>> b.b\n",
        "2\n",
        ">>> b.a = 3\n",
        ">>> b['a']\n",
        "3\n",
        ">>> b.c = 6\n",
        ">>> b['c']\n",
        "6\n",
        "~~~\n",
        "\n",
        "[Reference](https://scikit-learn.org/stable/modules/generated/sklearn.utils.Bunch.html)\n"
      ]
    },
    {
      "cell_type": "code",
      "metadata": {
        "colab": {
          "base_uri": "https://localhost:8080/"
        },
        "id": "JuHpEC0UjHPK",
        "outputId": "a0bb1bb7-c0c2-40bf-ed02-cb66ab62a5c0"
      },
      "source": [
        "# 정말 .으로 해당 속성이 불러와 지는지 확인\n",
        "print(iris.target)"
      ],
      "execution_count": 9,
      "outputs": [
        {
          "output_type": "stream",
          "text": [
            "[0 0 0 0 0 0 0 0 0 0 0 0 0 0 0 0 0 0 0 0 0 0 0 0 0 0 0 0 0 0 0 0 0 0 0 0 0\n",
            " 0 0 0 0 0 0 0 0 0 0 0 0 0 1 1 1 1 1 1 1 1 1 1 1 1 1 1 1 1 1 1 1 1 1 1 1 1\n",
            " 1 1 1 1 1 1 1 1 1 1 1 1 1 1 1 1 1 1 1 1 1 1 1 1 1 1 2 2 2 2 2 2 2 2 2 2 2\n",
            " 2 2 2 2 2 2 2 2 2 2 2 2 2 2 2 2 2 2 2 2 2 2 2 2 2 2 2 2 2 2 2 2 2 2 2 2 2\n",
            " 2 2]\n"
          ],
          "name": "stdout"
        }
      ]
    },
    {
      "cell_type": "markdown",
      "metadata": {
        "id": "TJ-ZTTktDzYF"
      },
      "source": [
        "## 연습문제 2.1.1"
      ]
    },
    {
      "cell_type": "code",
      "metadata": {
        "colab": {
          "base_uri": "https://localhost:8080/"
        },
        "id": "qMDU348Xnx_O",
        "outputId": "e369412b-e295-4197-f282-e03dc427b7a6"
      },
      "source": [
        "# 연습문제 2.1.1\n",
        "# numpy와 판다스에서 as~~라는 메소드는 ~~으로 변환시킨다/바꾼다라는 의미를 가집니다.\n",
        "# e.g. df['column1'].astype('int') : 판다스의 데이터프레임 중 column1을 int타입으로 바꿔라\n",
        "x2 = [4.9, 3.0, 1.4, 0.2]\n",
        "x2 = np.asarray(x2) # 리스트인 x2를 array형태로 바꿔라\n",
        "print(type(x2))"
      ],
      "execution_count": 10,
      "outputs": [
        {
          "output_type": "stream",
          "text": [
            "<class 'numpy.ndarray'>\n"
          ],
          "name": "stdout"
        }
      ]
    },
    {
      "cell_type": "markdown",
      "metadata": {
        "id": "lYOM_lKvRabE"
      },
      "source": [
        "## 연습문제 2.1.2"
      ]
    },
    {
      "cell_type": "code",
      "metadata": {
        "id": "LHd70QUYoFlm"
      },
      "source": [
        "# 연습문제 2.1.2\r\n",
        "# 넘파이를 이용하여 붓꽃 데이터 X에 대한 행렬 변수 X를 만든다.\r\n",
        "X = iris['data']"
      ],
      "execution_count": 11,
      "outputs": []
    },
    {
      "cell_type": "markdown",
      "metadata": {
        "id": "0_4_dtI_oeSQ"
      },
      "source": [
        "## 텐서는 어디에 쓰일까? - MNIST 예제\r\n"
      ]
    },
    {
      "cell_type": "code",
      "metadata": {
        "colab": {
          "base_uri": "https://localhost:8080/"
        },
        "id": "nonLg2e7poPT",
        "outputId": "8e42604d-5cd4-48b9-b93e-d3b341589637"
      },
      "source": [
        "from sklearn.datasets import load_digits  # 패키지 임포트\n",
        "\n",
        "digits = load_digits()  # 데이터 로드\n",
        "print(type(digits))\n",
        "print(digits.keys())\n",
        "\n",
        "# 데이터 타입도 bunch"
      ],
      "execution_count": 12,
      "outputs": [
        {
          "output_type": "stream",
          "text": [
            "<class 'sklearn.utils.Bunch'>\n",
            "dict_keys(['data', 'target', 'target_names', 'images', 'DESCR'])\n"
          ],
          "name": "stdout"
        }
      ]
    },
    {
      "cell_type": "code",
      "metadata": {
        "colab": {
          "base_uri": "https://localhost:8080/"
        },
        "id": "IiVdxOJ-qrsl",
        "outputId": "dea70f1d-eb4c-43b7-8ab5-1c986e5c4ced"
      },
      "source": [
        "MNIST_X = digits['data']\r\n",
        "MNIST_X.shape # 1797 x 64 형태의 행렬"
      ],
      "execution_count": 13,
      "outputs": [
        {
          "output_type": "execute_result",
          "data": {
            "text/plain": [
              "(1797, 64)"
            ]
          },
          "metadata": {
            "tags": []
          },
          "execution_count": 13
        }
      ]
    },
    {
      "cell_type": "code",
      "metadata": {
        "colab": {
          "base_uri": "https://localhost:8080/"
        },
        "id": "uubiZ1wXqwbc",
        "outputId": "8db705e0-bfed-478c-b3c8-15c9e1234b1a"
      },
      "source": [
        "MNIST_y = digits['target']\r\n",
        "MNIST_y.shape"
      ],
      "execution_count": 14,
      "outputs": [
        {
          "output_type": "execute_result",
          "data": {
            "text/plain": [
              "(1797,)"
            ]
          },
          "metadata": {
            "tags": []
          },
          "execution_count": 14
        }
      ]
    },
    {
      "cell_type": "code",
      "metadata": {
        "colab": {
          "base_uri": "https://localhost:8080/",
          "height": 695
        },
        "id": "wRtpelEzsiSH",
        "outputId": "7407e8c6-7880-4910-c909-79874a1cccf8"
      },
      "source": [
        "sample1 = MNIST_X[0]\r\n",
        "print(sample1)\r\n",
        "\r\n",
        "import matplotlib.pyplot as plt\r\n",
        "plt.figure(figsize=(10,5))\r\n",
        "plt.imshow(sample1.reshape(64,1), cmap=plt.cm.bone_r)\r\n",
        "plt.show()\r\n",
        "\r\n",
        "plt.figure(figsize=(10,5))\r\n",
        "plt.imshow(sample1.reshape(8,8), cmap=plt.cm.bone_r)\r\n",
        "plt.show()\r\n"
      ],
      "execution_count": 15,
      "outputs": [
        {
          "output_type": "stream",
          "text": [
            "[ 0.  0.  5. 13.  9.  1.  0.  0.  0.  0. 13. 15. 10. 15.  5.  0.  0.  3.\n",
            " 15.  2.  0. 11.  8.  0.  0.  4. 12.  0.  0.  8.  8.  0.  0.  5.  8.  0.\n",
            "  0.  9.  8.  0.  0.  4. 11.  0.  1. 12.  7.  0.  0.  2. 14.  5. 10. 12.\n",
            "  0.  0.  0.  0.  6. 13. 10.  0.  0.  0.]\n"
          ],
          "name": "stdout"
        },
        {
          "output_type": "display_data",
          "data": {
            "image/png": "[encoded data removed]",
            "text/plain": [
              "<Figure size 720x360 with 1 Axes>"
            ]
          },
          "metadata": {
            "tags": [],
            "needs_background": "light"
          }
        },
        {
          "output_type": "display_data",
          "data": {
            "image/png": "[encoded data removed]",
            "text/plain": [
              "<Figure size 720x360 with 1 Axes>"
            ]
          },
          "metadata": {
            "tags": [],
            "needs_background": "light"
          }
        }
      ]
    },
    {
      "cell_type": "code",
      "metadata": {
        "colab": {
          "base_uri": "https://localhost:8080/"
        },
        "id": "TVnDLskby9St",
        "outputId": "65d96226-3955-4d1c-e9d8-dd9922bd54e3"
      },
      "source": [
        "MNIST_X_tensor = MNIST_X.reshape(1797, 8, 8)\r\n",
        "print(MNIST_X_tensor.shape) # 8x8 이미지(행렬)가 1797개 담겨있는 3차원 텐서"
      ],
      "execution_count": 16,
      "outputs": [
        {
          "output_type": "stream",
          "text": [
            "(1797, 8, 8)\n"
          ],
          "name": "stdout"
        }
      ]
    },
    {
      "cell_type": "code",
      "metadata": {
        "colab": {
          "base_uri": "https://localhost:8080/",
          "height": 407
        },
        "id": "daf3ZnYwznQs",
        "outputId": "1dbd8fb5-bb73-4825-e28f-391defb1f421"
      },
      "source": [
        "print(MNIST_X[10])\r\n",
        "print(MNIST_X[10].shape)\r\n",
        "\r\n",
        "plt.figure(figsize=(10,5))\r\n",
        "plt.imshow(MNIST_X[10].reshape(8,8), cmap=plt.cm.bone_r)\r\n",
        "plt.show()"
      ],
      "execution_count": 17,
      "outputs": [
        {
          "output_type": "stream",
          "text": [
            "[ 0.  0.  1.  9. 15. 11.  0.  0.  0.  0. 11. 16.  8. 14.  6.  0.  0.  2.\n",
            " 16. 10.  0.  9.  9.  0.  0.  1. 16.  4.  0.  8.  8.  0.  0.  4. 16.  4.\n",
            "  0.  8.  8.  0.  0.  1. 16.  5.  1. 11.  3.  0.  0.  0. 12. 12. 10. 10.\n",
            "  0.  0.  0.  0.  1. 10. 13.  3.  0.  0.]\n",
            "(64,)\n"
          ],
          "name": "stdout"
        },
        {
          "output_type": "display_data",
          "data": {
            "image/png": "[encoded data removed]",
            "text/plain": [
              "<Figure size 720x360 with 1 Axes>"
            ]
          },
          "metadata": {
            "tags": [],
            "needs_background": "light"
          }
        }
      ]
    },
    {
      "cell_type": "code",
      "metadata": {
        "colab": {
          "base_uri": "https://localhost:8080/",
          "height": 477
        },
        "id": "MrNpQxg4zbT9",
        "outputId": "f657bacb-4293-4668-ec94-6b6a3c535d1a"
      },
      "source": [
        "print(MNIST_X_tensor[10])\r\n",
        "print(MNIST_X_tensor[10].shape)\r\n",
        "\r\n",
        "plt.figure(figsize=(10,5))\r\n",
        "plt.imshow(MNIST_X_tensor[10], cmap=plt.cm.bone_r)\r\n",
        "plt.show()"
      ],
      "execution_count": 18,
      "outputs": [
        {
          "output_type": "stream",
          "text": [
            "[[ 0.  0.  1.  9. 15. 11.  0.  0.]\n",
            " [ 0.  0. 11. 16.  8. 14.  6.  0.]\n",
            " [ 0.  2. 16. 10.  0.  9.  9.  0.]\n",
            " [ 0.  1. 16.  4.  0.  8.  8.  0.]\n",
            " [ 0.  4. 16.  4.  0.  8.  8.  0.]\n",
            " [ 0.  1. 16.  5.  1. 11.  3.  0.]\n",
            " [ 0.  0. 12. 12. 10. 10.  0.  0.]\n",
            " [ 0.  0.  1. 10. 13.  3.  0.  0.]]\n",
            "(8, 8)\n"
          ],
          "name": "stdout"
        },
        {
          "output_type": "display_data",
          "data": {
            "image/png": "[encoded data removed]",
            "text/plain": [
              "<Figure size 720x360 with 1 Axes>"
            ]
          },
          "metadata": {
            "tags": [],
            "needs_background": "light"
          }
        }
      ]
    },
    {
      "cell_type": "markdown",
      "metadata": {
        "id": "nS-3TxuJD27q"
      },
      "source": [
        "## 연습문제 2.1.3"
      ]
    },
    {
      "cell_type": "code",
      "metadata": {
        "colab": {
          "base_uri": "https://localhost:8080/"
        },
        "id": "5yZFYcoCs6H7",
        "outputId": "53fe29a3-f24e-43cd-f6a8-34144e67668f"
      },
      "source": [
        "# 연습문제 2.1.3\n",
        "# 1. X의 전치행렬을 구하여라\n",
        "X_transposed = X.T\n",
        "print(f'전치행렬 : {X_transposed} \\n형태 : {X_transposed.shape}') "
      ],
      "execution_count": 19,
      "outputs": [
        {
          "output_type": "stream",
          "text": [
            "전치행렬 : [[5.1 4.9 4.7 4.6 5.  5.4 4.6 5.  4.4 4.9 5.4 4.8 4.8 4.3 5.8 5.7 5.4 5.1\n",
            "  5.7 5.1 5.4 5.1 4.6 5.1 4.8 5.  5.  5.2 5.2 4.7 4.8 5.4 5.2 5.5 4.9 5.\n",
            "  5.5 4.9 4.4 5.1 5.  4.5 4.4 5.  5.1 4.8 5.1 4.6 5.3 5.  7.  6.4 6.9 5.5\n",
            "  6.5 5.7 6.3 4.9 6.6 5.2 5.  5.9 6.  6.1 5.6 6.7 5.6 5.8 6.2 5.6 5.9 6.1\n",
            "  6.3 6.1 6.4 6.6 6.8 6.7 6.  5.7 5.5 5.5 5.8 6.  5.4 6.  6.7 6.3 5.6 5.5\n",
            "  5.5 6.1 5.8 5.  5.6 5.7 5.7 6.2 5.1 5.7 6.3 5.8 7.1 6.3 6.5 7.6 4.9 7.3\n",
            "  6.7 7.2 6.5 6.4 6.8 5.7 5.8 6.4 6.5 7.7 7.7 6.  6.9 5.6 7.7 6.3 6.7 7.2\n",
            "  6.2 6.1 6.4 7.2 7.4 7.9 6.4 6.3 6.1 7.7 6.3 6.4 6.  6.9 6.7 6.9 5.8 6.8\n",
            "  6.7 6.7 6.3 6.5 6.2 5.9]\n",
            " [3.5 3.  3.2 3.1 3.6 3.9 3.4 3.4 2.9 3.1 3.7 3.4 3.  3.  4.  4.4 3.9 3.5\n",
            "  3.8 3.8 3.4 3.7 3.6 3.3 3.4 3.  3.4 3.5 3.4 3.2 3.1 3.4 4.1 4.2 3.1 3.2\n",
            "  3.5 3.6 3.  3.4 3.5 2.3 3.2 3.5 3.8 3.  3.8 3.2 3.7 3.3 3.2 3.2 3.1 2.3\n",
            "  2.8 2.8 3.3 2.4 2.9 2.7 2.  3.  2.2 2.9 2.9 3.1 3.  2.7 2.2 2.5 3.2 2.8\n",
            "  2.5 2.8 2.9 3.  2.8 3.  2.9 2.6 2.4 2.4 2.7 2.7 3.  3.4 3.1 2.3 3.  2.5\n",
            "  2.6 3.  2.6 2.3 2.7 3.  2.9 2.9 2.5 2.8 3.3 2.7 3.  2.9 3.  3.  2.5 2.9\n",
            "  2.5 3.6 3.2 2.7 3.  2.5 2.8 3.2 3.  3.8 2.6 2.2 3.2 2.8 2.8 2.7 3.3 3.2\n",
            "  2.8 3.  2.8 3.  2.8 3.8 2.8 2.8 2.6 3.  3.4 3.1 3.  3.1 3.1 3.1 2.7 3.2\n",
            "  3.3 3.  2.5 3.  3.4 3. ]\n",
            " [1.4 1.4 1.3 1.5 1.4 1.7 1.4 1.5 1.4 1.5 1.5 1.6 1.4 1.1 1.2 1.5 1.3 1.4\n",
            "  1.7 1.5 1.7 1.5 1.  1.7 1.9 1.6 1.6 1.5 1.4 1.6 1.6 1.5 1.5 1.4 1.5 1.2\n",
            "  1.3 1.4 1.3 1.5 1.3 1.3 1.3 1.6 1.9 1.4 1.6 1.4 1.5 1.4 4.7 4.5 4.9 4.\n",
            "  4.6 4.5 4.7 3.3 4.6 3.9 3.5 4.2 4.  4.7 3.6 4.4 4.5 4.1 4.5 3.9 4.8 4.\n",
            "  4.9 4.7 4.3 4.4 4.8 5.  4.5 3.5 3.8 3.7 3.9 5.1 4.5 4.5 4.7 4.4 4.1 4.\n",
            "  4.4 4.6 4.  3.3 4.2 4.2 4.2 4.3 3.  4.1 6.  5.1 5.9 5.6 5.8 6.6 4.5 6.3\n",
            "  5.8 6.1 5.1 5.3 5.5 5.  5.1 5.3 5.5 6.7 6.9 5.  5.7 4.9 6.7 4.9 5.7 6.\n",
            "  4.8 4.9 5.6 5.8 6.1 6.4 5.6 5.1 5.6 6.1 5.6 5.5 4.8 5.4 5.6 5.1 5.1 5.9\n",
            "  5.7 5.2 5.  5.2 5.4 5.1]\n",
            " [0.2 0.2 0.2 0.2 0.2 0.4 0.3 0.2 0.2 0.1 0.2 0.2 0.1 0.1 0.2 0.4 0.4 0.3\n",
            "  0.3 0.3 0.2 0.4 0.2 0.5 0.2 0.2 0.4 0.2 0.2 0.2 0.2 0.4 0.1 0.2 0.2 0.2\n",
            "  0.2 0.1 0.2 0.2 0.3 0.3 0.2 0.6 0.4 0.3 0.2 0.2 0.2 0.2 1.4 1.5 1.5 1.3\n",
            "  1.5 1.3 1.6 1.  1.3 1.4 1.  1.5 1.  1.4 1.3 1.4 1.5 1.  1.5 1.1 1.8 1.3\n",
            "  1.5 1.2 1.3 1.4 1.4 1.7 1.5 1.  1.1 1.  1.2 1.6 1.5 1.6 1.5 1.3 1.3 1.3\n",
            "  1.2 1.4 1.2 1.  1.3 1.2 1.3 1.3 1.1 1.3 2.5 1.9 2.1 1.8 2.2 2.1 1.7 1.8\n",
            "  1.8 2.5 2.  1.9 2.1 2.  2.4 2.3 1.8 2.2 2.3 1.5 2.3 2.  2.  1.8 2.1 1.8\n",
            "  1.8 1.8 2.1 1.6 1.9 2.  2.2 1.5 1.4 2.3 2.4 1.8 1.8 2.1 2.4 2.3 1.9 2.3\n",
            "  2.5 2.3 1.9 2.  2.3 1.8]] \n",
            "형태 : (4, 150)\n"
          ],
          "name": "stdout"
        }
      ]
    },
    {
      "cell_type": "code",
      "metadata": {
        "colab": {
          "base_uri": "https://localhost:8080/"
        },
        "id": "koUxNW2ovvIQ",
        "outputId": "ec7e5f91-cf66-432c-a559-23556b73cd41"
      },
      "source": [
        "# 2. 전치행렬의 전치행렬이 원래의 행렬과 같은지 비교하라 \n",
        "X_t_t = X_transposed.T\n",
        "print(np.array_equal(X, X_t_t)) # 동일한 행렬인지 비교하는 메소드"
      ],
      "execution_count": 20,
      "outputs": [
        {
          "output_type": "stream",
          "text": [
            "True\n"
          ],
          "name": "stdout"
        }
      ]
    },
    {
      "cell_type": "markdown",
      "metadata": {
        "id": "6zd2Sa2UD5xK"
      },
      "source": [
        "## 연습문제 2.2.3"
      ]
    },
    {
      "cell_type": "code",
      "metadata": {
        "colab": {
          "base_uri": "https://localhost:8080/"
        },
        "id": "P7q1tkI9kEHr",
        "outputId": "e3f9b552-9923-4158-8b49-9d94b1354a31"
      },
      "source": [
        "# 연습문제 2.2.3\r\n",
        "from sklearn.datasets import load_digits  # 패키지 임포트\r\n",
        "\r\n",
        "digits = load_digits()  # 데이터 로드\r\n",
        "X = digits.data\r\n",
        "\r\n",
        "# 1) 이론에서는 벡터는 열벡터로 가정하지만 Numpy에서는 행벡터가 기본값\r\n",
        "print(np.dot(X[0], X[10].T))\r\n",
        "# 2) \r\n",
        "dot_products = np.dot(X, X.T)\r\n",
        "print(dot_products)\r\n",
        "print(dot_products.shape)"
      ],
      "execution_count": 21,
      "outputs": [
        {
          "output_type": "stream",
          "text": [
            "3064.0\n",
            "[[3070. 1866. 2264. ... 2812. 3006. 2898.]\n",
            " [1866. 4209. 3432. ... 3906. 3083. 3307.]\n",
            " [2264. 3432. 4388. ... 4005. 3063. 3697.]\n",
            " ...\n",
            " [2812. 3906. 4005. ... 5092. 3729. 4598.]\n",
            " [3006. 3083. 3063. ... 3729. 4316. 3850.]\n",
            " [2898. 3307. 3697. ... 4598. 3850. 4938.]]\n",
            "(1797, 1797)\n"
          ],
          "name": "stdout"
        }
      ]
    },
    {
      "cell_type": "code",
      "metadata": {
        "colab": {
          "base_uri": "https://localhost:8080/"
        },
        "id": "lnD1c6LNdpBx",
        "outputId": "e6cc35be-3197-4ed2-985d-645ed8505dd4"
      },
      "source": [
        "dot_products[0,10]"
      ],
      "execution_count": 22,
      "outputs": [
        {
          "output_type": "execute_result",
          "data": {
            "text/plain": [
              "3064.0"
            ]
          },
          "metadata": {
            "tags": []
          },
          "execution_count": 22
        }
      ]
    },
    {
      "cell_type": "markdown",
      "metadata": {
        "id": "dAcI6E3CSH-Q"
      },
      "source": [
        "## 연습문제 2.2.5"
      ]
    },
    {
      "cell_type": "code",
      "metadata": {
        "id": "PgWJ4C3PyWYz",
        "colab": {
          "base_uri": "https://localhost:8080/"
        },
        "outputId": "d7af75c1-b4a9-4ae3-f2d5-ddb84f3eed31"
      },
      "source": [
        "# 연습문제 2.2.5\r\n",
        "# 4)\r\n",
        "from sklearn.datasets import load_iris\r\n",
        "X = load_iris().data\r\n",
        "\r\n",
        "N, M = X.shape\r\n",
        "\r\n",
        "ones = np.ones((N,1)) # 일벡터\r\n",
        "\r\n",
        "X_ = 1/N * np.dot(ones, np.dot(ones.T, X))\r\n",
        "print(X_)\r\n",
        "print(X_.shape)"
      ],
      "execution_count": 23,
      "outputs": [
        {
          "output_type": "stream",
          "text": [
            "[[5.84333333 3.05733333 3.758      1.19933333]\n",
            " [5.84333333 3.05733333 3.758      1.19933333]\n",
            " [5.84333333 3.05733333 3.758      1.19933333]\n",
            " [5.84333333 3.05733333 3.758      1.19933333]\n",
            " [5.84333333 3.05733333 3.758      1.19933333]\n",
            " [5.84333333 3.05733333 3.758      1.19933333]\n",
            " [5.84333333 3.05733333 3.758      1.19933333]\n",
            " [5.84333333 3.05733333 3.758      1.19933333]\n",
            " [5.84333333 3.05733333 3.758      1.19933333]\n",
            " [5.84333333 3.05733333 3.758      1.19933333]\n",
            " [5.84333333 3.05733333 3.758      1.19933333]\n",
            " [5.84333333 3.05733333 3.758      1.19933333]\n",
            " [5.84333333 3.05733333 3.758      1.19933333]\n",
            " [5.84333333 3.05733333 3.758      1.19933333]\n",
            " [5.84333333 3.05733333 3.758      1.19933333]\n",
            " [5.84333333 3.05733333 3.758      1.19933333]\n",
            " [5.84333333 3.05733333 3.758      1.19933333]\n",
            " [5.84333333 3.05733333 3.758      1.19933333]\n",
            " [5.84333333 3.05733333 3.758      1.19933333]\n",
            " [5.84333333 3.05733333 3.758      1.19933333]\n",
            " [5.84333333 3.05733333 3.758      1.19933333]\n",
            " [5.84333333 3.05733333 3.758      1.19933333]\n",
            " [5.84333333 3.05733333 3.758      1.19933333]\n",
            " [5.84333333 3.05733333 3.758      1.19933333]\n",
            " [5.84333333 3.05733333 3.758      1.19933333]\n",
            " [5.84333333 3.05733333 3.758      1.19933333]\n",
            " [5.84333333 3.05733333 3.758      1.19933333]\n",
            " [5.84333333 3.05733333 3.758      1.19933333]\n",
            " [5.84333333 3.05733333 3.758      1.19933333]\n",
            " [5.84333333 3.05733333 3.758      1.19933333]\n",
            " [5.84333333 3.05733333 3.758      1.19933333]\n",
            " [5.84333333 3.05733333 3.758      1.19933333]\n",
            " [5.84333333 3.05733333 3.758      1.19933333]\n",
            " [5.84333333 3.05733333 3.758      1.19933333]\n",
            " [5.84333333 3.05733333 3.758      1.19933333]\n",
            " [5.84333333 3.05733333 3.758      1.19933333]\n",
            " [5.84333333 3.05733333 3.758      1.19933333]\n",
            " [5.84333333 3.05733333 3.758      1.19933333]\n",
            " [5.84333333 3.05733333 3.758      1.19933333]\n",
            " [5.84333333 3.05733333 3.758      1.19933333]\n",
            " [5.84333333 3.05733333 3.758      1.19933333]\n",
            " [5.84333333 3.05733333 3.758      1.19933333]\n",
            " [5.84333333 3.05733333 3.758      1.19933333]\n",
            " [5.84333333 3.05733333 3.758      1.19933333]\n",
            " [5.84333333 3.05733333 3.758      1.19933333]\n",
            " [5.84333333 3.05733333 3.758      1.19933333]\n",
            " [5.84333333 3.05733333 3.758      1.19933333]\n",
            " [5.84333333 3.05733333 3.758      1.19933333]\n",
            " [5.84333333 3.05733333 3.758      1.19933333]\n",
            " [5.84333333 3.05733333 3.758      1.19933333]\n",
            " [5.84333333 3.05733333 3.758      1.19933333]\n",
            " [5.84333333 3.05733333 3.758      1.19933333]\n",
            " [5.84333333 3.05733333 3.758      1.19933333]\n",
            " [5.84333333 3.05733333 3.758      1.19933333]\n",
            " [5.84333333 3.05733333 3.758      1.19933333]\n",
            " [5.84333333 3.05733333 3.758      1.19933333]\n",
            " [5.84333333 3.05733333 3.758      1.19933333]\n",
            " [5.84333333 3.05733333 3.758      1.19933333]\n",
            " [5.84333333 3.05733333 3.758      1.19933333]\n",
            " [5.84333333 3.05733333 3.758      1.19933333]\n",
            " [5.84333333 3.05733333 3.758      1.19933333]\n",
            " [5.84333333 3.05733333 3.758      1.19933333]\n",
            " [5.84333333 3.05733333 3.758      1.19933333]\n",
            " [5.84333333 3.05733333 3.758      1.19933333]\n",
            " [5.84333333 3.05733333 3.758      1.19933333]\n",
            " [5.84333333 3.05733333 3.758      1.19933333]\n",
            " [5.84333333 3.05733333 3.758      1.19933333]\n",
            " [5.84333333 3.05733333 3.758      1.19933333]\n",
            " [5.84333333 3.05733333 3.758      1.19933333]\n",
            " [5.84333333 3.05733333 3.758      1.19933333]\n",
            " [5.84333333 3.05733333 3.758      1.19933333]\n",
            " [5.84333333 3.05733333 3.758      1.19933333]\n",
            " [5.84333333 3.05733333 3.758      1.19933333]\n",
            " [5.84333333 3.05733333 3.758      1.19933333]\n",
            " [5.84333333 3.05733333 3.758      1.19933333]\n",
            " [5.84333333 3.05733333 3.758      1.19933333]\n",
            " [5.84333333 3.05733333 3.758      1.19933333]\n",
            " [5.84333333 3.05733333 3.758      1.19933333]\n",
            " [5.84333333 3.05733333 3.758      1.19933333]\n",
            " [5.84333333 3.05733333 3.758      1.19933333]\n",
            " [5.84333333 3.05733333 3.758      1.19933333]\n",
            " [5.84333333 3.05733333 3.758      1.19933333]\n",
            " [5.84333333 3.05733333 3.758      1.19933333]\n",
            " [5.84333333 3.05733333 3.758      1.19933333]\n",
            " [5.84333333 3.05733333 3.758      1.19933333]\n",
            " [5.84333333 3.05733333 3.758      1.19933333]\n",
            " [5.84333333 3.05733333 3.758      1.19933333]\n",
            " [5.84333333 3.05733333 3.758      1.19933333]\n",
            " [5.84333333 3.05733333 3.758      1.19933333]\n",
            " [5.84333333 3.05733333 3.758      1.19933333]\n",
            " [5.84333333 3.05733333 3.758      1.19933333]\n",
            " [5.84333333 3.05733333 3.758      1.19933333]\n",
            " [5.84333333 3.05733333 3.758      1.19933333]\n",
            " [5.84333333 3.05733333 3.758      1.19933333]\n",
            " [5.84333333 3.05733333 3.758      1.19933333]\n",
            " [5.84333333 3.05733333 3.758      1.19933333]\n",
            " [5.84333333 3.05733333 3.758      1.19933333]\n",
            " [5.84333333 3.05733333 3.758      1.19933333]\n",
            " [5.84333333 3.05733333 3.758      1.19933333]\n",
            " [5.84333333 3.05733333 3.758      1.19933333]\n",
            " [5.84333333 3.05733333 3.758      1.19933333]\n",
            " [5.84333333 3.05733333 3.758      1.19933333]\n",
            " [5.84333333 3.05733333 3.758      1.19933333]\n",
            " [5.84333333 3.05733333 3.758      1.19933333]\n",
            " [5.84333333 3.05733333 3.758      1.19933333]\n",
            " [5.84333333 3.05733333 3.758      1.19933333]\n",
            " [5.84333333 3.05733333 3.758      1.19933333]\n",
            " [5.84333333 3.05733333 3.758      1.19933333]\n",
            " [5.84333333 3.05733333 3.758      1.19933333]\n",
            " [5.84333333 3.05733333 3.758      1.19933333]\n",
            " [5.84333333 3.05733333 3.758      1.19933333]\n",
            " [5.84333333 3.05733333 3.758      1.19933333]\n",
            " [5.84333333 3.05733333 3.758      1.19933333]\n",
            " [5.84333333 3.05733333 3.758      1.19933333]\n",
            " [5.84333333 3.05733333 3.758      1.19933333]\n",
            " [5.84333333 3.05733333 3.758      1.19933333]\n",
            " [5.84333333 3.05733333 3.758      1.19933333]\n",
            " [5.84333333 3.05733333 3.758      1.19933333]\n",
            " [5.84333333 3.05733333 3.758      1.19933333]\n",
            " [5.84333333 3.05733333 3.758      1.19933333]\n",
            " [5.84333333 3.05733333 3.758      1.19933333]\n",
            " [5.84333333 3.05733333 3.758      1.19933333]\n",
            " [5.84333333 3.05733333 3.758      1.19933333]\n",
            " [5.84333333 3.05733333 3.758      1.19933333]\n",
            " [5.84333333 3.05733333 3.758      1.19933333]\n",
            " [5.84333333 3.05733333 3.758      1.19933333]\n",
            " [5.84333333 3.05733333 3.758      1.19933333]\n",
            " [5.84333333 3.05733333 3.758      1.19933333]\n",
            " [5.84333333 3.05733333 3.758      1.19933333]\n",
            " [5.84333333 3.05733333 3.758      1.19933333]\n",
            " [5.84333333 3.05733333 3.758      1.19933333]\n",
            " [5.84333333 3.05733333 3.758      1.19933333]\n",
            " [5.84333333 3.05733333 3.758      1.19933333]\n",
            " [5.84333333 3.05733333 3.758      1.19933333]\n",
            " [5.84333333 3.05733333 3.758      1.19933333]\n",
            " [5.84333333 3.05733333 3.758      1.19933333]\n",
            " [5.84333333 3.05733333 3.758      1.19933333]\n",
            " [5.84333333 3.05733333 3.758      1.19933333]\n",
            " [5.84333333 3.05733333 3.758      1.19933333]\n",
            " [5.84333333 3.05733333 3.758      1.19933333]\n",
            " [5.84333333 3.05733333 3.758      1.19933333]\n",
            " [5.84333333 3.05733333 3.758      1.19933333]\n",
            " [5.84333333 3.05733333 3.758      1.19933333]\n",
            " [5.84333333 3.05733333 3.758      1.19933333]\n",
            " [5.84333333 3.05733333 3.758      1.19933333]\n",
            " [5.84333333 3.05733333 3.758      1.19933333]\n",
            " [5.84333333 3.05733333 3.758      1.19933333]\n",
            " [5.84333333 3.05733333 3.758      1.19933333]\n",
            " [5.84333333 3.05733333 3.758      1.19933333]\n",
            " [5.84333333 3.05733333 3.758      1.19933333]]\n",
            "(150, 4)\n"
          ],
          "name": "stdout"
        }
      ]
    },
    {
      "cell_type": "code",
      "metadata": {
        "id": "t7pzS_yv0OWX"
      },
      "source": [
        ""
      ],
      "execution_count": 23,
      "outputs": []
    },
    {
      "cell_type": "markdown",
      "metadata": {
        "id": "jUqtDpBanEQt"
      },
      "source": [
        "## 가중합 동시계산 - Scikit Learn의 LinearRegressior가 Predict 하는 방법은?\r\n",
        "* California housing 데이터를 통해 median 집값 예측"
      ]
    },
    {
      "cell_type": "code",
      "metadata": {
        "colab": {
          "base_uri": "https://localhost:8080/",
          "height": 197
        },
        "id": "Oz-9y0CTk0bQ",
        "outputId": "26553a07-f02b-417e-da91-1349921cc44f"
      },
      "source": [
        "housing = pd.read_csv('sample_data/california_housing_train.csv')\r\n",
        "housing.head()"
      ],
      "execution_count": 24,
      "outputs": [
        {
          "output_type": "execute_result",
          "data": {
            "text/html": [
              "<div>\n",
              "<style scoped>\n",
              "    .dataframe tbody tr th:only-of-type {\n",
              "        vertical-align: middle;\n",
              "    }\n",
              "\n",
              "    .dataframe tbody tr th {\n",
              "        vertical-align: top;\n",
              "    }\n",
              "\n",
              "    .dataframe thead th {\n",
              "        text-align: right;\n",
              "    }\n",
              "</style>\n",
              "<table border=\"1\" class=\"dataframe\">\n",
              "  <thead>\n",
              "    <tr style=\"text-align: right;\">\n",
              "      <th></th>\n",
              "      <th>longitude</th>\n",
              "      <th>latitude</th>\n",
              "      <th>housing_median_age</th>\n",
              "      <th>total_rooms</th>\n",
              "      <th>total_bedrooms</th>\n",
              "      <th>population</th>\n",
              "      <th>households</th>\n",
              "      <th>median_income</th>\n",
              "      <th>median_house_value</th>\n",
              "    </tr>\n",
              "  </thead>\n",
              "  <tbody>\n",
              "    <tr>\n",
              "      <th>0</th>\n",
              "      <td>-114.31</td>\n",
              "      <td>34.19</td>\n",
              "      <td>15.0</td>\n",
              "      <td>5612.0</td>\n",
              "      <td>1283.0</td>\n",
              "      <td>1015.0</td>\n",
              "      <td>472.0</td>\n",
              "      <td>1.4936</td>\n",
              "      <td>66900.0</td>\n",
              "    </tr>\n",
              "    <tr>\n",
              "      <th>1</th>\n",
              "      <td>-114.47</td>\n",
              "      <td>34.40</td>\n",
              "      <td>19.0</td>\n",
              "      <td>7650.0</td>\n",
              "      <td>1901.0</td>\n",
              "      <td>1129.0</td>\n",
              "      <td>463.0</td>\n",
              "      <td>1.8200</td>\n",
              "      <td>80100.0</td>\n",
              "    </tr>\n",
              "    <tr>\n",
              "      <th>2</th>\n",
              "      <td>-114.56</td>\n",
              "      <td>33.69</td>\n",
              "      <td>17.0</td>\n",
              "      <td>720.0</td>\n",
              "      <td>174.0</td>\n",
              "      <td>333.0</td>\n",
              "      <td>117.0</td>\n",
              "      <td>1.6509</td>\n",
              "      <td>85700.0</td>\n",
              "    </tr>\n",
              "    <tr>\n",
              "      <th>3</th>\n",
              "      <td>-114.57</td>\n",
              "      <td>33.64</td>\n",
              "      <td>14.0</td>\n",
              "      <td>1501.0</td>\n",
              "      <td>337.0</td>\n",
              "      <td>515.0</td>\n",
              "      <td>226.0</td>\n",
              "      <td>3.1917</td>\n",
              "      <td>73400.0</td>\n",
              "    </tr>\n",
              "    <tr>\n",
              "      <th>4</th>\n",
              "      <td>-114.57</td>\n",
              "      <td>33.57</td>\n",
              "      <td>20.0</td>\n",
              "      <td>1454.0</td>\n",
              "      <td>326.0</td>\n",
              "      <td>624.0</td>\n",
              "      <td>262.0</td>\n",
              "      <td>1.9250</td>\n",
              "      <td>65500.0</td>\n",
              "    </tr>\n",
              "  </tbody>\n",
              "</table>\n",
              "</div>"
            ],
            "text/plain": [
              "   longitude  latitude  ...  median_income  median_house_value\n",
              "0    -114.31     34.19  ...         1.4936             66900.0\n",
              "1    -114.47     34.40  ...         1.8200             80100.0\n",
              "2    -114.56     33.69  ...         1.6509             85700.0\n",
              "3    -114.57     33.64  ...         3.1917             73400.0\n",
              "4    -114.57     33.57  ...         1.9250             65500.0\n",
              "\n",
              "[5 rows x 9 columns]"
            ]
          },
          "metadata": {
            "tags": []
          },
          "execution_count": 24
        }
      ]
    },
    {
      "cell_type": "code",
      "metadata": {
        "id": "O-zP4HavlyfW"
      },
      "source": [
        "features = ['longitude', 'latitude', 'housing_median_age', 'total_rooms', 'total_bedrooms', 'population', 'households', 'median_income']\r\n",
        "X = housing[features]\r\n",
        "y = housing['median_house_value']"
      ],
      "execution_count": 25,
      "outputs": []
    },
    {
      "cell_type": "code",
      "metadata": {
        "colab": {
          "base_uri": "https://localhost:8080/",
          "height": 197
        },
        "id": "TqrBmiTikvB7",
        "outputId": "e54d127a-11ef-4bc9-e550-767c95f072a6"
      },
      "source": [
        "X.head()"
      ],
      "execution_count": 26,
      "outputs": [
        {
          "output_type": "execute_result",
          "data": {
            "text/html": [
              "<div>\n",
              "<style scoped>\n",
              "    .dataframe tbody tr th:only-of-type {\n",
              "        vertical-align: middle;\n",
              "    }\n",
              "\n",
              "    .dataframe tbody tr th {\n",
              "        vertical-align: top;\n",
              "    }\n",
              "\n",
              "    .dataframe thead th {\n",
              "        text-align: right;\n",
              "    }\n",
              "</style>\n",
              "<table border=\"1\" class=\"dataframe\">\n",
              "  <thead>\n",
              "    <tr style=\"text-align: right;\">\n",
              "      <th></th>\n",
              "      <th>longitude</th>\n",
              "      <th>latitude</th>\n",
              "      <th>housing_median_age</th>\n",
              "      <th>total_rooms</th>\n",
              "      <th>total_bedrooms</th>\n",
              "      <th>population</th>\n",
              "      <th>households</th>\n",
              "      <th>median_income</th>\n",
              "    </tr>\n",
              "  </thead>\n",
              "  <tbody>\n",
              "    <tr>\n",
              "      <th>0</th>\n",
              "      <td>-114.31</td>\n",
              "      <td>34.19</td>\n",
              "      <td>15.0</td>\n",
              "      <td>5612.0</td>\n",
              "      <td>1283.0</td>\n",
              "      <td>1015.0</td>\n",
              "      <td>472.0</td>\n",
              "      <td>1.4936</td>\n",
              "    </tr>\n",
              "    <tr>\n",
              "      <th>1</th>\n",
              "      <td>-114.47</td>\n",
              "      <td>34.40</td>\n",
              "      <td>19.0</td>\n",
              "      <td>7650.0</td>\n",
              "      <td>1901.0</td>\n",
              "      <td>1129.0</td>\n",
              "      <td>463.0</td>\n",
              "      <td>1.8200</td>\n",
              "    </tr>\n",
              "    <tr>\n",
              "      <th>2</th>\n",
              "      <td>-114.56</td>\n",
              "      <td>33.69</td>\n",
              "      <td>17.0</td>\n",
              "      <td>720.0</td>\n",
              "      <td>174.0</td>\n",
              "      <td>333.0</td>\n",
              "      <td>117.0</td>\n",
              "      <td>1.6509</td>\n",
              "    </tr>\n",
              "    <tr>\n",
              "      <th>3</th>\n",
              "      <td>-114.57</td>\n",
              "      <td>33.64</td>\n",
              "      <td>14.0</td>\n",
              "      <td>1501.0</td>\n",
              "      <td>337.0</td>\n",
              "      <td>515.0</td>\n",
              "      <td>226.0</td>\n",
              "      <td>3.1917</td>\n",
              "    </tr>\n",
              "    <tr>\n",
              "      <th>4</th>\n",
              "      <td>-114.57</td>\n",
              "      <td>33.57</td>\n",
              "      <td>20.0</td>\n",
              "      <td>1454.0</td>\n",
              "      <td>326.0</td>\n",
              "      <td>624.0</td>\n",
              "      <td>262.0</td>\n",
              "      <td>1.9250</td>\n",
              "    </tr>\n",
              "  </tbody>\n",
              "</table>\n",
              "</div>"
            ],
            "text/plain": [
              "   longitude  latitude  ...  households  median_income\n",
              "0    -114.31     34.19  ...       472.0         1.4936\n",
              "1    -114.47     34.40  ...       463.0         1.8200\n",
              "2    -114.56     33.69  ...       117.0         1.6509\n",
              "3    -114.57     33.64  ...       226.0         3.1917\n",
              "4    -114.57     33.57  ...       262.0         1.9250\n",
              "\n",
              "[5 rows x 8 columns]"
            ]
          },
          "metadata": {
            "tags": []
          },
          "execution_count": 26
        }
      ]
    },
    {
      "cell_type": "code",
      "metadata": {
        "colab": {
          "base_uri": "https://localhost:8080/"
        },
        "id": "VY1tVvCIkwix",
        "outputId": "3f520fec-9a94-4a94-c827-8cfaeca9fa40"
      },
      "source": [
        "y.shape"
      ],
      "execution_count": 27,
      "outputs": [
        {
          "output_type": "execute_result",
          "data": {
            "text/plain": [
              "(17000,)"
            ]
          },
          "metadata": {
            "tags": []
          },
          "execution_count": 27
        }
      ]
    },
    {
      "cell_type": "code",
      "metadata": {
        "id": "8DrJPP1QmPMT"
      },
      "source": [
        "from sklearn.linear_model import LinearRegression\r\n",
        "reg = LinearRegression().fit(X, y)\r\n"
      ],
      "execution_count": 28,
      "outputs": []
    },
    {
      "cell_type": "code",
      "metadata": {
        "colab": {
          "base_uri": "https://localhost:8080/"
        },
        "id": "d_aRarVNmeLE",
        "outputId": "3983945f-eb62-4007-b5e3-cd5208587ada"
      },
      "source": [
        "print(reg.score(X, y))\r\n",
        "print(reg.coef_) # w1x1 + w2x2 + .. + w8x8 \r\n",
        "print(reg.intercept_) # b\r\n"
      ],
      "execution_count": 29,
      "outputs": [
        {
          "output_type": "stream",
          "text": [
            "0.6413378529502686\n",
            "[-4.31396373e+04 -4.29256731e+04  1.15069493e+03 -8.37825121e+00\n",
            "  1.17648543e+02 -3.84887721e+01  4.54360026e+01  4.05070684e+04]\n",
            "-3620600.8929739078\n"
          ],
          "name": "stdout"
        }
      ]
    },
    {
      "cell_type": "code",
      "metadata": {
        "colab": {
          "base_uri": "https://localhost:8080/"
        },
        "id": "7v6Bvb-al8nF",
        "outputId": "35324685-382c-4b58-eab7-1c40c1fb6779"
      },
      "source": [
        "print(reg.predict(X))"
      ],
      "execution_count": 30,
      "outputs": [
        {
          "output_type": "stream",
          "text": [
            "[  7128.08452517  73675.60144224 -31317.28531191 ... 100878.32872671\n",
            "  63733.22144717 186850.92450275]\n"
          ],
          "name": "stdout"
        }
      ]
    },
    {
      "cell_type": "code",
      "metadata": {
        "id": "ca3y4POBlcI3"
      },
      "source": [
        "# y = w1x1 + w2x2 + .... + w8x8 + b\r\n",
        "w = reg.coef_\r\n",
        "b = reg.intercept_"
      ],
      "execution_count": 31,
      "outputs": []
    },
    {
      "cell_type": "code",
      "metadata": {
        "colab": {
          "base_uri": "https://localhost:8080/"
        },
        "id": "cRbTAThTmobh",
        "outputId": "c321a7e4-516b-472a-cf44-6222ab3a294c"
      },
      "source": [
        "np.dot(X, w.T) + b"
      ],
      "execution_count": 32,
      "outputs": [
        {
          "output_type": "execute_result",
          "data": {
            "text/plain": [
              "array([  7128.08452517,  73675.60144224, -31317.28531191, ...,\n",
              "       100878.32872671,  63733.22144717, 186850.92450275])"
            ]
          },
          "metadata": {
            "tags": []
          },
          "execution_count": 32
        }
      ]
    }
  ]
}