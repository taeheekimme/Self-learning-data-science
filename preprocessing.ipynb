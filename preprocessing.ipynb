{
 "cells": [
  {
   "cell_type": "markdown",
   "metadata": {},
   "source": [
    "모델을 어떻게 짜느냐보다 \n",
    "주어진 문제를 해결하기 위해 어떻게 문제를 설계하고 평가하는지에 대한 전체 프로세스를 위주로 작성"
   ]
  },
  {
   "cell_type": "markdown",
   "metadata": {},
   "source": [
    "**추천시스템의 목표**\n",
    "- 유저의 입장\n",
    "    - 나에게 적절한 아이템을 받고 싶음\n",
    "    - 유저에게 적절한 아이템 -> 개인화\n",
    "- 운영자 입장\n",
    "    - 상품을 적절한 유저에게 팔고 싶음\n",
    "    - 상품에 적절한 유저를 찾거나, 비슷한 아이템을 찾거나\n",
    "    - 상품에 적절한 아이템 -> 연관화\n",
    "    \n",
    "    \n",
    "    \n",
    "    \n",
    " - **오늘은 유저별 추천 사용 : 해당 유저에게 어떤 아이템을 추천할 것인가**"
   ]
  },
  {
   "cell_type": "markdown",
   "metadata": {},
   "source": [
    "**MovieLens 20M Dataset**\n",
    "- https://www.kaggle.com/grouplens/movielens-20m-dataset?select=movie.csv\n",
    "- 영화 평점 데이터를 가지고 각 유저, 아이템에 대해서 유사한 콘텐츠 추천하기로 함\n",
    "\n",
    "\n",
    "**Latent variable**\n",
    "- 비지도 학습의 클러스터링에서 그룹을 지으면 각 그룹의 의미는 모르지만, 비슷한 애들끼리 뭉쳐짐\n",
    "- 예를 들어 kmeans, DBscan 등 \n",
    "- 그러나 유저들을 군집화하면 각 유저들이 어떤 특성을 가졌는지는 따로 확인해봐야 함 \n",
    "     - 즉, 사후에 따로 해석을 해야 함\n",
    "- 따라서 의미를 알 수는 없지만 중요한 의미를 가진 벡터<br><br>\n",
    "- Clustering에서의 군집\n",
    "- PCA에서 나온 z들<br><br>\n",
    "\n",
    "- **오늘 추천시스템에서 사용할 것임, 정확히는 ALS모델**<br><br>\n",
    "\n",
    "\n",
    "\n",
    "**explicit feedback**<br>\n",
    "- 유저가 정확하게 어떤 아이템에 대해서 평점이 몇이냐 메긴 것<br><br>\n",
    "\n",
    "\n",
    "**implicit feedback**<br>\n",
    "- 유저가 좋아하는지 안 좋아하는지 모르는데 구독은 누른경우 \n",
    "    - 좋아하는 표시는 맞지만 행동에 불가한 것\n",
    "    - 영상을 보다가 중간에 나간 경우 사후에 전처리를 거쳐서 해당 유저는 영상을 몇 번봤는지 피처를 뽑아내야 함\n",
    "    \n",
    "**explicit vs implicit**\n",
    "- 배민에서도 평점을 남기는 고객은 극소수임\n",
    "- 따라서 explicit피드백은 적고 구하기 어려움\n",
    "- implicit은 구하기 쉽지만 평가하기가 어려움<br><br>\n",
    "- **오늘은 explicit을 쉽게 다룰 것이고**\n",
    "- **implicit도 rating을 매기는 것처럼 피처로 뽑아줄 것**\n",
    "- **뽑아준 피처를 넣어주는 방법도 구현할 것**\n",
    "\n",
    "\n",
    "**추천시스템 종류**\n",
    "1. 협업 필터링 collaborative filtering(cf)\n",
    "    - 유저와 아이템(영화)간의 상호작용을 가지고 모델링하는 것\n",
    "    - **오늘은 cf중 하나인 matrix factorization(mf)를 도입하기 위해 ALS를 사용**\n",
    "        - ALS는 mf를 실행하는 방법론 중 하나\n",
    "        - ALS가 가장 많이 사용됨\n",
    "        - 뉴럴넷, BPR(bayesian personalized ranking), 로지스틱 등등이 있음\n",
    "        - ALS와 BPR은 작동 방식이 완전히 다름<br><br>\n",
    "        \n",
    "2. 콘텐츠 필터링 content filtering\n",
    "    - 유저나 아이템 자체의 정보를 이용<br><br>\n",
    "\n",
    "3. hybrid\n",
    "    - 둘 다 섞어 쓰는 것"
   ]
  },
  {
   "cell_type": "markdown",
   "metadata": {},
   "source": [
    "# 1. preprocessing"
   ]
  },
  {
   "cell_type": "markdown",
   "metadata": {},
   "source": [
    "## 1.1데이터 탐색"
   ]
  },
  {
   "cell_type": "code",
   "execution_count": 1,
   "metadata": {},
   "outputs": [],
   "source": [
    "import matplotlib.pyplot as plt\n",
    "import pandas as pd\n",
    "import numpy as np"
   ]
  },
  {
   "cell_type": "code",
   "execution_count": 2,
   "metadata": {},
   "outputs": [],
   "source": [
    "import os\n",
    "os.chdir(r\"C:\\Users\\Gram\\Desktop\\스스로 배우는 데이터사이언스\\추천시스템\\data\")\n",
    "df = pd.read_csv('rating.csv')"
   ]
  },
  {
   "cell_type": "code",
   "execution_count": 3,
   "metadata": {},
   "outputs": [
    {
     "data": {
      "text/html": [
       "<div>\n",
       "<style scoped>\n",
       "    .dataframe tbody tr th:only-of-type {\n",
       "        vertical-align: middle;\n",
       "    }\n",
       "\n",
       "    .dataframe tbody tr th {\n",
       "        vertical-align: top;\n",
       "    }\n",
       "\n",
       "    .dataframe thead th {\n",
       "        text-align: right;\n",
       "    }\n",
       "</style>\n",
       "<table border=\"1\" class=\"dataframe\">\n",
       "  <thead>\n",
       "    <tr style=\"text-align: right;\">\n",
       "      <th></th>\n",
       "      <th>userId</th>\n",
       "      <th>movieId</th>\n",
       "      <th>rating</th>\n",
       "      <th>timestamp</th>\n",
       "    </tr>\n",
       "  </thead>\n",
       "  <tbody>\n",
       "    <tr>\n",
       "      <td>0</td>\n",
       "      <td>1</td>\n",
       "      <td>2</td>\n",
       "      <td>3.5</td>\n",
       "      <td>2005-04-02 23:53:47</td>\n",
       "    </tr>\n",
       "    <tr>\n",
       "      <td>1</td>\n",
       "      <td>1</td>\n",
       "      <td>29</td>\n",
       "      <td>3.5</td>\n",
       "      <td>2005-04-02 23:31:16</td>\n",
       "    </tr>\n",
       "    <tr>\n",
       "      <td>2</td>\n",
       "      <td>1</td>\n",
       "      <td>32</td>\n",
       "      <td>3.5</td>\n",
       "      <td>2005-04-02 23:33:39</td>\n",
       "    </tr>\n",
       "    <tr>\n",
       "      <td>3</td>\n",
       "      <td>1</td>\n",
       "      <td>47</td>\n",
       "      <td>3.5</td>\n",
       "      <td>2005-04-02 23:32:07</td>\n",
       "    </tr>\n",
       "    <tr>\n",
       "      <td>4</td>\n",
       "      <td>1</td>\n",
       "      <td>50</td>\n",
       "      <td>3.5</td>\n",
       "      <td>2005-04-02 23:29:40</td>\n",
       "    </tr>\n",
       "  </tbody>\n",
       "</table>\n",
       "</div>"
      ],
      "text/plain": [
       "   userId  movieId  rating            timestamp\n",
       "0       1        2     3.5  2005-04-02 23:53:47\n",
       "1       1       29     3.5  2005-04-02 23:31:16\n",
       "2       1       32     3.5  2005-04-02 23:33:39\n",
       "3       1       47     3.5  2005-04-02 23:32:07\n",
       "4       1       50     3.5  2005-04-02 23:29:40"
      ]
     },
     "execution_count": 3,
     "metadata": {},
     "output_type": "execute_result"
    }
   ],
   "source": [
    "df.head()\n",
    "# 각 유저가 어떤 아이템에 대해서 어떻게 점수를 매겼는지, 시간은 언제인지 알 수 있음"
   ]
  },
  {
   "cell_type": "code",
   "execution_count": 4,
   "metadata": {},
   "outputs": [
    {
     "name": "stdout",
     "output_type": "stream",
     "text": [
      "<class 'pandas.core.frame.DataFrame'>\n",
      "RangeIndex: 20000263 entries, 0 to 20000262\n",
      "Data columns (total 4 columns):\n",
      "userId       int64\n",
      "movieId      int64\n",
      "rating       float64\n",
      "timestamp    object\n",
      "dtypes: float64(1), int64(2), object(1)\n",
      "memory usage: 610.4+ MB\n"
     ]
    }
   ],
   "source": [
    "df.info()\n",
    "# RangeIndex: 20000263면 데이터가 2000만개 정도 -> 나쁘지 않음"
   ]
  },
  {
   "cell_type": "code",
   "execution_count": 5,
   "metadata": {},
   "outputs": [],
   "source": [
    "df.userId = df.userId.astype(np.int32)\n",
    "df.movieId = df.movieId.astype(np.int32)\n",
    "df.rating = (df.rating*2).astype(np.int16) # rating은 0.5~5점 사이이므로 0.5점 때문에 float으로 쓰면 공간 낭비이므로 *2를 해서 0~10점으로 변경해 줌"
   ]
  },
  {
   "cell_type": "code",
   "execution_count": 6,
   "metadata": {},
   "outputs": [
    {
     "data": {
      "text/plain": [
       "<matplotlib.axes._subplots.AxesSubplot at 0x22c632d7648>"
      ]
     },
     "execution_count": 6,
     "metadata": {},
     "output_type": "execute_result"
    },
    {
     "data": {
      "image/png": "[encoded data removed]",
      "text/plain": [
       "<Figure size 432x288 with 1 Axes>"
      ]
     },
     "metadata": {
      "needs_background": "light"
     },
     "output_type": "display_data"
    }
   ],
   "source": [
    "df.rating.value_counts().sort_index().plot.bar()\n",
    "# 6점과 8점에 대부분이 분포"
   ]
  },
  {
   "cell_type": "markdown",
   "metadata": {},
   "source": [
    "**유저별로 몇 번씩 평가를 했는지 확인**"
   ]
  },
  {
   "cell_type": "code",
   "execution_count": 7,
   "metadata": {},
   "outputs": [
    {
     "data": {
      "text/plain": [
       "138493"
      ]
     },
     "execution_count": 7,
     "metadata": {},
     "output_type": "execute_result"
    }
   ],
   "source": [
    "# 총 유저의 수 13만 8천명 정도\n",
    "df.userId.nunique()"
   ]
  },
  {
   "cell_type": "code",
   "execution_count": 8,
   "metadata": {},
   "outputs": [
    {
     "data": {
      "text/plain": [
       "userId\n",
       "1         175\n",
       "2          61\n",
       "3         187\n",
       "4          28\n",
       "5          66\n",
       "         ... \n",
       "138489     38\n",
       "138490    151\n",
       "138491     22\n",
       "138492     82\n",
       "138493    373\n",
       "Length: 138493, dtype: int64"
      ]
     },
     "execution_count": 8,
     "metadata": {},
     "output_type": "execute_result"
    }
   ],
   "source": [
    "user_movie_count = df.groupby('userId').size()\n",
    "user_movie_count"
   ]
  },
  {
   "cell_type": "code",
   "execution_count": 9,
   "metadata": {},
   "outputs": [
    {
     "data": {
      "text/plain": [
       "userId\n",
       "118205    9254\n",
       "8405      7515\n",
       "82418     5646\n",
       "121535    5520\n",
       "125794    5491\n",
       "74142     5447\n",
       "34576     5356\n",
       "131904    5330\n",
       "83090     5169\n",
       "59477     4988\n",
       "dtype: int64"
      ]
     },
     "execution_count": 9,
     "metadata": {},
     "output_type": "execute_result"
    }
   ],
   "source": [
    "user_movie_count.nlargest(10)\n",
    "# 가장 많이 본 유저는 9254번 평가함 -> 이 유저의 경우 데이터가 풍부함\n",
    "# 그러나 데이터가 적은 유저들도 존재"
   ]
  },
  {
   "cell_type": "code",
   "execution_count": 10,
   "metadata": {},
   "outputs": [
    {
     "data": {
      "text/plain": [
       "<matplotlib.axes._subplots.AxesSubplot at 0x22c006b0d48>"
      ]
     },
     "execution_count": 10,
     "metadata": {},
     "output_type": "execute_result"
    },
    {
     "data": {
      "image/png": "[encoded data removed]",
      "text/plain": [
       "<Figure size 432x288 with 1 Axes>"
      ]
     },
     "metadata": {
      "needs_background": "light"
     },
     "output_type": "display_data"
    }
   ],
   "source": [
    "# 데이터가 1000개 미만인 유저들 확인\n",
    "user_movie_count[user_movie_count<1000].hist()\n",
    "# 시각화를 하니 대부분의 유저들은 많이 보지 않음"
   ]
  },
  {
   "cell_type": "code",
   "execution_count": 11,
   "metadata": {},
   "outputs": [
    {
     "data": {
      "text/plain": [
       "68.0"
      ]
     },
     "execution_count": 11,
     "metadata": {},
     "output_type": "execute_result"
    }
   ],
   "source": [
    "# 중간값을 구해 봄\n",
    "user_movie_count.median()\n",
    "# 68개의 영화를 본 유저들이 중간값으로 가장 많음"
   ]
  },
  {
   "cell_type": "code",
   "execution_count": 12,
   "metadata": {},
   "outputs": [
    {
     "data": {
      "text/plain": [
       "0"
      ]
     },
     "execution_count": 12,
     "metadata": {},
     "output_type": "execute_result"
    }
   ],
   "source": [
    "# 10개도 안 본 유저 수\n",
    "(user_movie_count < 10).sum()\n",
    "# 1명도 없음"
   ]
  },
  {
   "cell_type": "code",
   "execution_count": 13,
   "metadata": {},
   "outputs": [
    {
     "data": {
      "text/plain": [
       "20"
      ]
     },
     "execution_count": 13,
     "metadata": {},
     "output_type": "execute_result"
    }
   ],
   "source": [
    "# 유저들이 본 최소 횟수\n",
    "user_movie_count.min()\n",
    "# 최소 20개의 영화는 봤음\n",
    "# 이미 데이터 자체에서 너무 적은 데이터의 유저는 전처리했을 듯"
   ]
  },
  {
   "cell_type": "markdown",
   "metadata": {},
   "source": [
    "## 1.2 train test split\n",
    "- 각 유저별로 90%는 train, 10%는 test\n",
    "- 유저가 본 90개의 영화를 보고 보지 않은 10개가 무엇인지를 맞추는 것이 목표"
   ]
  },
  {
   "cell_type": "code",
   "execution_count": 14,
   "metadata": {},
   "outputs": [
    {
     "name": "stderr",
     "output_type": "stream",
     "text": [
      "100%|█████████████████████████████████████████████████████████████████████████| 138493/138493 [06:17<00:00, 366.58it/s]\n"
     ]
    }
   ],
   "source": [
    "from tqdm import tqdm # 작동 시간을 보여줌\n",
    "\n",
    "train = []\n",
    "test = []\n",
    "\n",
    "for userId, group in tqdm(df.groupby('userId')):\n",
    "    group = group.sample(frac = 1) # 유저마다 샘플링을 하는 이유는 어떤 유저는 과하게 데이터가 추출되고, 어떤 유저는 과소하게 데이터가 추출될 것임\n",
    "                                   # 이걸 방지하기 위해 유저마다 동일한 비율로 샘플링해줌(층화추출)                      \n",
    "    \n",
    "    test_len = len(group) // 10   # test 10%로 설정\n",
    "    test.append(group[:test_len]) \n",
    "    \n",
    "    train.append(group[test_len:]) # test 10%를 제외한 나머지는 train 90%\n",
    "    \n",
    "# 유저별로 데이터가 깔끔하지 않는 경우가 있음\n",
    "# 어떤 유저는 데이터가 1개일 수도\n",
    "# 카카오아레나에서 플레이리스트 유추하는 경우에도 플레이스트마다 어떤 것은 곡이 1개만 있는 경우도 있음\n",
    "# 이렇게 데이터가 1개밖에 없으면 이 데이터는 train에 넣어야 할지, test에 넣어야 할지 설정해주거나 제외시켜줘야 함\n",
    "# 다행히 영화 데이터에서는 최소값이 20이므로 이런 경우는 없음"
   ]
  },
  {
   "cell_type": "code",
   "execution_count": 15,
   "metadata": {},
   "outputs": [],
   "source": [
    "train_df = pd.concat(train)\n",
    "test_df = pd.concat(test)"
   ]
  },
  {
   "cell_type": "markdown",
   "metadata": {},
   "source": [
    "**pickle을 사용하여 간단하게 파일 올림**\n",
    "- csv로 관리를 하면 파일이 커서 오래 걸림\n",
    "- csv는 용량도 많이 잡아먹음"
   ]
  },
  {
   "cell_type": "code",
   "execution_count": 16,
   "metadata": {},
   "outputs": [],
   "source": [
    "train_df.to_pickle('../data/train.pkl')\n",
    "test_df.to_pickle('../data/test.pkl')"
   ]
  }
 ],
 "metadata": {
  "hide_input": false,
  "kernelspec": {
   "display_name": "Python 3",
   "language": "python",
   "name": "python3"
  },
  "language_info": {
   "codemirror_mode": {
    "name": "ipython",
    "version": 3
   },
   "file_extension": ".py",
   "mimetype": "text/x-python",
   "name": "python",
   "nbconvert_exporter": "python",
   "pygments_lexer": "ipython3",
   "version": "3.7.4"
  },
  "toc": {
   "base_numbering": 1,
   "nav_menu": {},
   "number_sections": true,
   "sideBar": true,
   "skip_h1_title": false,
   "title_cell": "Table of Contents",
   "title_sidebar": "Contents",
   "toc_cell": false,
   "toc_position": {},
   "toc_section_display": true,
   "toc_window_display": false
  }
 },
 "nbformat": 4,
 "nbformat_minor": 2
}
