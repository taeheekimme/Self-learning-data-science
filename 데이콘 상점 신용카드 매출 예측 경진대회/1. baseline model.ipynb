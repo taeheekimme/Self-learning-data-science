{
 "cells": [
  {
   "cell_type": "markdown",
   "metadata": {},
   "source": [
    "# 1. 데이터 탐색"
   ]
  },
  {
   "cell_type": "code",
   "execution_count": 1,
   "metadata": {},
   "outputs": [],
   "source": [
    "import pandas as pd\n",
    "import numpy as np"
   ]
  },
  {
   "cell_type": "code",
   "execution_count": 2,
   "metadata": {},
   "outputs": [],
   "source": [
    "import os\n",
    "os.chdir(r\"C:\\Users\\Gram\\Desktop\\스배데\\데이콘 상점 신용카드 매출 예측 경진대회\\data\")\n",
    "df = pd.read_csv('funda_train.csv')"
   ]
  },
  {
   "cell_type": "code",
   "execution_count": 3,
   "metadata": {
    "scrolled": true
   },
   "outputs": [
    {
     "data": {
      "text/html": [
       "<div>\n",
       "<style scoped>\n",
       "    .dataframe tbody tr th:only-of-type {\n",
       "        vertical-align: middle;\n",
       "    }\n",
       "\n",
       "    .dataframe tbody tr th {\n",
       "        vertical-align: top;\n",
       "    }\n",
       "\n",
       "    .dataframe thead th {\n",
       "        text-align: right;\n",
       "    }\n",
       "</style>\n",
       "<table border=\"1\" class=\"dataframe\">\n",
       "  <thead>\n",
       "    <tr style=\"text-align: right;\">\n",
       "      <th></th>\n",
       "      <th>store_id</th>\n",
       "      <th>card_id</th>\n",
       "      <th>card_company</th>\n",
       "      <th>transacted_date</th>\n",
       "      <th>transacted_time</th>\n",
       "      <th>installment_term</th>\n",
       "      <th>region</th>\n",
       "      <th>type_of_business</th>\n",
       "      <th>amount</th>\n",
       "    </tr>\n",
       "  </thead>\n",
       "  <tbody>\n",
       "    <tr>\n",
       "      <td>0</td>\n",
       "      <td>0</td>\n",
       "      <td>0</td>\n",
       "      <td>b</td>\n",
       "      <td>2016-06-01</td>\n",
       "      <td>13:13</td>\n",
       "      <td>0</td>\n",
       "      <td>NaN</td>\n",
       "      <td>기타 미용업</td>\n",
       "      <td>1857.142857</td>\n",
       "    </tr>\n",
       "    <tr>\n",
       "      <td>1</td>\n",
       "      <td>0</td>\n",
       "      <td>1</td>\n",
       "      <td>h</td>\n",
       "      <td>2016-06-01</td>\n",
       "      <td>18:12</td>\n",
       "      <td>0</td>\n",
       "      <td>NaN</td>\n",
       "      <td>기타 미용업</td>\n",
       "      <td>857.142857</td>\n",
       "    </tr>\n",
       "    <tr>\n",
       "      <td>2</td>\n",
       "      <td>0</td>\n",
       "      <td>2</td>\n",
       "      <td>c</td>\n",
       "      <td>2016-06-01</td>\n",
       "      <td>18:52</td>\n",
       "      <td>0</td>\n",
       "      <td>NaN</td>\n",
       "      <td>기타 미용업</td>\n",
       "      <td>2000.000000</td>\n",
       "    </tr>\n",
       "    <tr>\n",
       "      <td>3</td>\n",
       "      <td>0</td>\n",
       "      <td>3</td>\n",
       "      <td>a</td>\n",
       "      <td>2016-06-01</td>\n",
       "      <td>20:22</td>\n",
       "      <td>0</td>\n",
       "      <td>NaN</td>\n",
       "      <td>기타 미용업</td>\n",
       "      <td>7857.142857</td>\n",
       "    </tr>\n",
       "    <tr>\n",
       "      <td>4</td>\n",
       "      <td>0</td>\n",
       "      <td>4</td>\n",
       "      <td>c</td>\n",
       "      <td>2016-06-02</td>\n",
       "      <td>11:06</td>\n",
       "      <td>0</td>\n",
       "      <td>NaN</td>\n",
       "      <td>기타 미용업</td>\n",
       "      <td>2000.000000</td>\n",
       "    </tr>\n",
       "  </tbody>\n",
       "</table>\n",
       "</div>"
      ],
      "text/plain": [
       "   store_id  card_id card_company transacted_date transacted_time  \\\n",
       "0         0        0            b      2016-06-01           13:13   \n",
       "1         0        1            h      2016-06-01           18:12   \n",
       "2         0        2            c      2016-06-01           18:52   \n",
       "3         0        3            a      2016-06-01           20:22   \n",
       "4         0        4            c      2016-06-02           11:06   \n",
       "\n",
       "   installment_term region type_of_business       amount  \n",
       "0                 0    NaN           기타 미용업  1857.142857  \n",
       "1                 0    NaN           기타 미용업   857.142857  \n",
       "2                 0    NaN           기타 미용업  2000.000000  \n",
       "3                 0    NaN           기타 미용업  7857.142857  \n",
       "4                 0    NaN           기타 미용업  2000.000000  "
      ]
     },
     "execution_count": 3,
     "metadata": {},
     "output_type": "execute_result"
    }
   ],
   "source": [
    "df.head()"
   ]
  },
  {
   "cell_type": "code",
   "execution_count": 4,
   "metadata": {},
   "outputs": [
    {
     "name": "stdout",
     "output_type": "stream",
     "text": [
      "<class 'pandas.core.frame.DataFrame'>\n",
      "RangeIndex: 6556613 entries, 0 to 6556612\n",
      "Data columns (total 9 columns):\n",
      "store_id            int64\n",
      "card_id             int64\n",
      "card_company        object\n",
      "transacted_date     object\n",
      "transacted_time     object\n",
      "installment_term    int64\n",
      "region              object\n",
      "type_of_business    object\n",
      "amount              float64\n",
      "dtypes: float64(1), int64(3), object(5)\n",
      "memory usage: 450.2+ MB\n"
     ]
    }
   ],
   "source": [
    "df.info()\n",
    "# memory usage: 450.2+ MB"
   ]
  },
  {
   "cell_type": "markdown",
   "metadata": {},
   "source": [
    "### 메모리를 위한 데이터 타입 변경"
   ]
  },
  {
   "cell_type": "code",
   "execution_count": 5,
   "metadata": {},
   "outputs": [],
   "source": [
    "df.store_id = df.store_id.astype(np.int32)\n",
    "df.card_id = df.card_id.astype(np.int32)\n",
    "df.card_company = df.card_company.astype('category')  # 카테고리형으로 바꾸면 메모리 용량 감소\n",
    "df.transacted_date = pd.to_datetime(df.transacted_date + \" \" + df.transacted_time, format='%Y-%m-%d %H:%M') # transacted_date에 time합침\n",
    "df.installment_term = df.installment_term.astype(np.int16)\n",
    "df.region = df.region.astype('category')\n",
    "df.type_of_business = df.type_of_business.astype('category')\n",
    "\n",
    "del df['transacted_time']  # transacted_time은 transacted_date에 포함시켰으므로 삭제해도 됨\n",
    "\n",
    "# amount는 float인데 float은 부동소수점을 공부하면 알겠지만 float을 줄이는 것은 정확도를 줄이는 것임\n",
    "# float칼럼이 되게 많고, 메모리에 큰 영향을 끼치면 줄여야 하지만 정리해도 메모리 감소에 별 효과없음\n",
    "# 즉, float은 칼럼이 여러개 있지 않은 이상 잘 건드리지 않음"
   ]
  },
  {
   "cell_type": "code",
   "execution_count": 6,
   "metadata": {},
   "outputs": [
    {
     "name": "stdout",
     "output_type": "stream",
     "text": [
      "<class 'pandas.core.frame.DataFrame'>\n",
      "RangeIndex: 6556613 entries, 0 to 6556612\n",
      "Data columns (total 8 columns):\n",
      "store_id            int32\n",
      "card_id             int32\n",
      "card_company        category\n",
      "transacted_date     datetime64[ns]\n",
      "installment_term    int16\n",
      "region              category\n",
      "type_of_business    category\n",
      "amount              float64\n",
      "dtypes: category(3), datetime64[ns](1), float64(1), int16(1), int32(2)\n",
      "memory usage: 193.9 MB\n"
     ]
    }
   ],
   "source": [
    "df.info()\n",
    "# memory usage: 193.9 MB -> 데이터 타입 관리로 데이터프레임의 메모리 점유율 감소함"
   ]
  },
  {
   "cell_type": "markdown",
   "metadata": {},
   "source": [
    "## 1.1 store_id"
   ]
  },
  {
   "cell_type": "code",
   "execution_count": 7,
   "metadata": {},
   "outputs": [
    {
     "data": {
      "text/plain": [
       "1330    9518\n",
       "1196    9471\n",
       "1171    9391\n",
       "710     9347\n",
       "826     9328\n",
       "        ... \n",
       "1974     429\n",
       "1240     426\n",
       "795      231\n",
       "2119     112\n",
       "1063      72\n",
       "Name: store_id, Length: 1967, dtype: int64"
      ]
     },
     "execution_count": 7,
     "metadata": {},
     "output_type": "execute_result"
    }
   ],
   "source": [
    "df.store_id.value_counts()\n",
    "# Length: 1967개로 1967개가 존재"
   ]
  },
  {
   "cell_type": "code",
   "execution_count": 8,
   "metadata": {},
   "outputs": [
    {
     "data": {
      "text/plain": [
       "2136"
      ]
     },
     "execution_count": 8,
     "metadata": {},
     "output_type": "execute_result"
    }
   ],
   "source": [
    "df.store_id.max()\n",
    "# Length: 1967개인데 max가 2136이므로 구멍이 있단 얘기"
   ]
  },
  {
   "cell_type": "code",
   "execution_count": 9,
   "metadata": {},
   "outputs": [
    {
     "data": {
      "text/plain": [
       "<matplotlib.axes._subplots.AxesSubplot at 0x29d067f5d48>"
      ]
     },
     "execution_count": 9,
     "metadata": {},
     "output_type": "execute_result"
    }
   ],
   "source": [
    "# 상점별로 대략 몇 건의 기록이 있는지 살펴봄\n",
    "df.store_id.value_counts().hist()\n",
    "# 아웃라이어(지나치게 높거나 낮은값)없이 깔끔하게 분포되어 있음"
   ]
  },
  {
   "cell_type": "markdown",
   "metadata": {},
   "source": [
    "## 1.2 card_id\n",
    "- 고객에 대한 식별자일 듯"
   ]
  },
  {
   "cell_type": "code",
   "execution_count": 10,
   "metadata": {},
   "outputs": [
    {
     "data": {
      "text/plain": [
       "3820295    2443\n",
       "3820350    1214\n",
       "1877306     645\n",
       "2838881     563\n",
       "3820294     512\n",
       "           ... \n",
       "1121230       1\n",
       "1117132       1\n",
       "1129418       1\n",
       "1137606       1\n",
       "3792699       1\n",
       "Name: card_id, Length: 3950001, dtype: int64"
      ]
     },
     "execution_count": 10,
     "metadata": {},
     "output_type": "execute_result"
    }
   ],
   "source": [
    "df.card_id.value_counts()\n",
    "# 거래량이 1로 적은 카드도 있고 거래량이 다양해 보임 -> 히스토그램하면 이쁘지 않게 나올 듯"
   ]
  },
  {
   "cell_type": "code",
   "execution_count": 11,
   "metadata": {},
   "outputs": [
    {
     "data": {
      "text/plain": [
       "<matplotlib.axes._subplots.AxesSubplot at 0x29d06a60b48>"
      ]
     },
     "execution_count": 11,
     "metadata": {},
     "output_type": "execute_result"
    },
    {
     "data": {
      "image/png": "[encoded data removed]",
      "text/plain": [
       "<Figure size 432x288 with 1 Axes>"
      ]
     },
     "metadata": {
      "needs_background": "light"
     },
     "output_type": "display_data"
    }
   ],
   "source": [
    "df.card_id.value_counts().hist()\n",
    "# skewed 비뚤어져있고, 아웃라이어 심각함"
   ]
  },
  {
   "cell_type": "markdown",
   "metadata": {},
   "source": [
    "## 1.3 card_company"
   ]
  },
  {
   "cell_type": "code",
   "execution_count": 12,
   "metadata": {},
   "outputs": [
    {
     "data": {
      "text/plain": [
       "<matplotlib.axes._subplots.AxesSubplot at 0x29d06ae5d08>"
      ]
     },
     "execution_count": 12,
     "metadata": {},
     "output_type": "execute_result"
    },
    {
     "data": {
      "image/png": "[encoded data removed]",
      "text/plain": [
       "<Figure size 432x288 with 1 Axes>"
      ]
     },
     "metadata": {
      "needs_background": "light"
     },
     "output_type": "display_data"
    }
   ],
   "source": [
    "df.card_company.value_counts().plot.bar()"
   ]
  },
  {
   "cell_type": "markdown",
   "metadata": {},
   "source": [
    "## 1.4 transacted_date"
   ]
  },
  {
   "cell_type": "code",
   "execution_count": 13,
   "metadata": {},
   "outputs": [
    {
     "name": "stdout",
     "output_type": "stream",
     "text": [
      "거래일 시작: 2016-06-01 00:00:00\n",
      "거래일 끝: 2019-02-28 23:59:00\n"
     ]
    }
   ],
   "source": [
    "print(f\"거래일 시작: {df.transacted_date.min()}\")\n",
    "print(f\"거래일 끝: {df.transacted_date.max()}\")\n",
    "# 거래일이 언제부터 발생했는지 확인해 봄\n",
    "# 약 3년간의 데이터로 이후 3개월간의 매출을 추정하는 대회임을 알 수 있음"
   ]
  },
  {
   "cell_type": "code",
   "execution_count": 14,
   "metadata": {},
   "outputs": [
    {
     "data": {
      "text/plain": [
       "<matplotlib.axes._subplots.AxesSubplot at 0x29d06bb8c48>"
      ]
     },
     "execution_count": 14,
     "metadata": {},
     "output_type": "execute_result"
    },
    {
     "data": {
      "image/png": "[encoded data removed]",
      "text/plain": [
       "<Figure size 432x288 with 1 Axes>"
      ]
     },
     "metadata": {
      "needs_background": "light"
     },
     "output_type": "display_data"
    }
   ],
   "source": [
    "# 3년간의 데이터로 이후 3개월을 예측하는 것이므로 년을 기준으로 시각화\n",
    "df.transacted_date.dt.year.value_counts().sort_index().plot.bar()\n",
    "# 데이터가 2016년 6월부터 시작이라 다른 해에 비해 부족함\n",
    "# 2019년도 2월까지라 다른 해에 비해 데이터가 부족함"
   ]
  },
  {
   "cell_type": "markdown",
   "metadata": {},
   "source": [
    "## 1.5 region"
   ]
  },
  {
   "cell_type": "code",
   "execution_count": 15,
   "metadata": {},
   "outputs": [
    {
     "data": {
      "text/plain": [
       "<matplotlib.axes._subplots.AxesSubplot at 0x29d06c16e08>"
      ]
     },
     "execution_count": 15,
     "metadata": {},
     "output_type": "execute_result"
    },
    {
     "data": {
      "image/png": "[encoded data removed]",
      "text/plain": [
       "<Figure size 432x288 with 1 Axes>"
      ]
     },
     "metadata": {
      "needs_background": "light"
     },
     "output_type": "display_data"
    }
   ],
   "source": [
    "df.region.value_counts().hist()\n",
    "# 180개라 bar plot으로 시각화하기는 좀 어려움"
   ]
  },
  {
   "cell_type": "code",
   "execution_count": 16,
   "metadata": {},
   "outputs": [
    {
     "data": {
      "text/plain": [
       "경기 수원시    122029\n",
       "충북 청주시    116766\n",
       "경남 창원시    107147\n",
       "경남 김해시    100673\n",
       "경기 평택시     82138\n",
       "           ...  \n",
       "경남 거창군      1143\n",
       "서울 관악구      1037\n",
       "경남 함안군       878\n",
       "경북 영천시       849\n",
       "전남 완도군       681\n",
       "Name: region, Length: 180, dtype: int64"
      ]
     },
     "execution_count": 16,
     "metadata": {},
     "output_type": "execute_result"
    }
   ],
   "source": [
    "# 서울이 가장 많지 않을까 싶어 확인\n",
    "df.region.value_counts()\n",
    "# 예상과 달리 수원시가 가장 많음\n",
    "# 서울의 경우는 구별로 쪼깨져있어 거래량이 작게 나옴을 알 수 있음"
   ]
  },
  {
   "cell_type": "markdown",
   "metadata": {},
   "source": [
    "## 1.6 type_of_business"
   ]
  },
  {
   "cell_type": "code",
   "execution_count": 17,
   "metadata": {},
   "outputs": [
    {
     "data": {
      "text/plain": [
       "한식 음식점업                     745905\n",
       "두발 미용업                      178475\n",
       "의복 소매업                      158234\n",
       "기타 주점업                      102413\n",
       "치킨 전문점                       89277\n",
       "                             ...  \n",
       "곡물 및 기타 식량작물 재배업               569\n",
       "주방용품 및 가정용 유리, 요업 제품 소매업       551\n",
       "배전반 및 전기 자동제어반 제조업             533\n",
       "그 외 기타 생활용품 도매업                519\n",
       "신선식품 및 단순 가공식품 도매업             231\n",
       "Name: type_of_business, Length: 145, dtype: int64"
      ]
     },
     "execution_count": 17,
     "metadata": {},
     "output_type": "execute_result"
    }
   ],
   "source": [
    "df.type_of_business.value_counts()\n",
    "# 음식점업에 치킨전문점이 빠져있음, 한식만 되어 있음 -> 카드사 데이터의 문제\n",
    "# 카드사 데이터는 업종유형이 매우 까다로움"
   ]
  },
  {
   "cell_type": "code",
   "execution_count": 18,
   "metadata": {},
   "outputs": [
    {
     "data": {
      "text/plain": [
       "<matplotlib.axes._subplots.AxesSubplot at 0x29d06cb42c8>"
      ]
     },
     "execution_count": 18,
     "metadata": {},
     "output_type": "execute_result"
    },
    {
     "data": {
      "image/png": "[encoded data removed]",
      "text/plain": [
       "<Figure size 432x288 with 1 Axes>"
      ]
     },
     "metadata": {
      "needs_background": "light"
     },
     "output_type": "display_data"
    }
   ],
   "source": [
    "df.type_of_business.value_counts().hist()\n",
    "# 위의 결과처럼 음식업이 대부분을 차지함"
   ]
  },
  {
   "cell_type": "markdown",
   "metadata": {},
   "source": [
    "## 1.7 amount"
   ]
  },
  {
   "cell_type": "code",
   "execution_count": 19,
   "metadata": {},
   "outputs": [
    {
     "data": {
      "text/plain": [
       "<matplotlib.axes._subplots.AxesSubplot at 0x29d06d2f108>"
      ]
     },
     "execution_count": 19,
     "metadata": {},
     "output_type": "execute_result"
    },
    {
     "data": {
      "image/png": "[encoded data removed]",
      "text/plain": [
       "<Figure size 432x288 with 1 Axes>"
      ]
     },
     "metadata": {
      "needs_background": "light"
     },
     "output_type": "display_data"
    }
   ],
   "source": [
    "df.amount.hist()\n",
    "# 아웃라이어가 극단적 -> 로그를 씌워 조정"
   ]
  },
  {
   "cell_type": "code",
   "execution_count": 20,
   "metadata": {},
   "outputs": [
    {
     "data": {
      "text/html": [
       "<div>\n",
       "<style scoped>\n",
       "    .dataframe tbody tr th:only-of-type {\n",
       "        vertical-align: middle;\n",
       "    }\n",
       "\n",
       "    .dataframe tbody tr th {\n",
       "        vertical-align: top;\n",
       "    }\n",
       "\n",
       "    .dataframe thead th {\n",
       "        text-align: right;\n",
       "    }\n",
       "</style>\n",
       "<table border=\"1\" class=\"dataframe\">\n",
       "  <thead>\n",
       "    <tr style=\"text-align: right;\">\n",
       "      <th></th>\n",
       "      <th>store_id</th>\n",
       "      <th>card_id</th>\n",
       "      <th>card_company</th>\n",
       "      <th>transacted_date</th>\n",
       "      <th>installment_term</th>\n",
       "      <th>region</th>\n",
       "      <th>type_of_business</th>\n",
       "      <th>amount</th>\n",
       "    </tr>\n",
       "  </thead>\n",
       "  <tbody>\n",
       "    <tr>\n",
       "      <td>41</td>\n",
       "      <td>0</td>\n",
       "      <td>40</td>\n",
       "      <td>a</td>\n",
       "      <td>2016-06-10 17:26:00</td>\n",
       "      <td>2</td>\n",
       "      <td>NaN</td>\n",
       "      <td>기타 미용업</td>\n",
       "      <td>-8571.428571</td>\n",
       "    </tr>\n",
       "    <tr>\n",
       "      <td>347</td>\n",
       "      <td>0</td>\n",
       "      <td>285</td>\n",
       "      <td>a</td>\n",
       "      <td>2016-08-04 17:52:00</td>\n",
       "      <td>0</td>\n",
       "      <td>NaN</td>\n",
       "      <td>기타 미용업</td>\n",
       "      <td>-1857.142857</td>\n",
       "    </tr>\n",
       "    <tr>\n",
       "      <td>731</td>\n",
       "      <td>0</td>\n",
       "      <td>473</td>\n",
       "      <td>g</td>\n",
       "      <td>2016-10-17 10:32:00</td>\n",
       "      <td>0</td>\n",
       "      <td>NaN</td>\n",
       "      <td>기타 미용업</td>\n",
       "      <td>-2000.000000</td>\n",
       "    </tr>\n",
       "    <tr>\n",
       "      <td>831</td>\n",
       "      <td>0</td>\n",
       "      <td>230</td>\n",
       "      <td>b</td>\n",
       "      <td>2016-11-03 15:36:00</td>\n",
       "      <td>0</td>\n",
       "      <td>NaN</td>\n",
       "      <td>기타 미용업</td>\n",
       "      <td>-85.714286</td>\n",
       "    </tr>\n",
       "    <tr>\n",
       "      <td>944</td>\n",
       "      <td>0</td>\n",
       "      <td>138</td>\n",
       "      <td>a</td>\n",
       "      <td>2016-11-28 13:21:00</td>\n",
       "      <td>0</td>\n",
       "      <td>NaN</td>\n",
       "      <td>기타 미용업</td>\n",
       "      <td>-57.142857</td>\n",
       "    </tr>\n",
       "    <tr>\n",
       "      <td>...</td>\n",
       "      <td>...</td>\n",
       "      <td>...</td>\n",
       "      <td>...</td>\n",
       "      <td>...</td>\n",
       "      <td>...</td>\n",
       "      <td>...</td>\n",
       "      <td>...</td>\n",
       "      <td>...</td>\n",
       "    </tr>\n",
       "    <tr>\n",
       "      <td>6556242</td>\n",
       "      <td>2136</td>\n",
       "      <td>4663626</td>\n",
       "      <td>b</td>\n",
       "      <td>2019-02-01 21:19:00</td>\n",
       "      <td>0</td>\n",
       "      <td>제주 제주시</td>\n",
       "      <td>기타 주점업</td>\n",
       "      <td>-13428.571429</td>\n",
       "    </tr>\n",
       "    <tr>\n",
       "      <td>6556448</td>\n",
       "      <td>2136</td>\n",
       "      <td>4663760</td>\n",
       "      <td>d</td>\n",
       "      <td>2019-02-15 00:46:00</td>\n",
       "      <td>0</td>\n",
       "      <td>제주 제주시</td>\n",
       "      <td>기타 주점업</td>\n",
       "      <td>-6928.571429</td>\n",
       "    </tr>\n",
       "    <tr>\n",
       "      <td>6556485</td>\n",
       "      <td>2136</td>\n",
       "      <td>4663779</td>\n",
       "      <td>b</td>\n",
       "      <td>2019-02-18 02:45:00</td>\n",
       "      <td>0</td>\n",
       "      <td>제주 제주시</td>\n",
       "      <td>기타 주점업</td>\n",
       "      <td>-5571.428571</td>\n",
       "    </tr>\n",
       "    <tr>\n",
       "      <td>6556489</td>\n",
       "      <td>2136</td>\n",
       "      <td>4663780</td>\n",
       "      <td>d</td>\n",
       "      <td>2019-02-18 21:43:00</td>\n",
       "      <td>0</td>\n",
       "      <td>제주 제주시</td>\n",
       "      <td>기타 주점업</td>\n",
       "      <td>-8571.428571</td>\n",
       "    </tr>\n",
       "    <tr>\n",
       "      <td>6556608</td>\n",
       "      <td>2136</td>\n",
       "      <td>4663855</td>\n",
       "      <td>d</td>\n",
       "      <td>2019-02-28 23:20:00</td>\n",
       "      <td>0</td>\n",
       "      <td>제주 제주시</td>\n",
       "      <td>기타 주점업</td>\n",
       "      <td>-4500.000000</td>\n",
       "    </tr>\n",
       "  </tbody>\n",
       "</table>\n",
       "<p>73100 rows × 8 columns</p>\n",
       "</div>"
      ],
      "text/plain": [
       "         store_id  card_id card_company     transacted_date  installment_term  \\\n",
       "41              0       40            a 2016-06-10 17:26:00                 2   \n",
       "347             0      285            a 2016-08-04 17:52:00                 0   \n",
       "731             0      473            g 2016-10-17 10:32:00                 0   \n",
       "831             0      230            b 2016-11-03 15:36:00                 0   \n",
       "944             0      138            a 2016-11-28 13:21:00                 0   \n",
       "...           ...      ...          ...                 ...               ...   \n",
       "6556242      2136  4663626            b 2019-02-01 21:19:00                 0   \n",
       "6556448      2136  4663760            d 2019-02-15 00:46:00                 0   \n",
       "6556485      2136  4663779            b 2019-02-18 02:45:00                 0   \n",
       "6556489      2136  4663780            d 2019-02-18 21:43:00                 0   \n",
       "6556608      2136  4663855            d 2019-02-28 23:20:00                 0   \n",
       "\n",
       "         region type_of_business        amount  \n",
       "41          NaN           기타 미용업  -8571.428571  \n",
       "347         NaN           기타 미용업  -1857.142857  \n",
       "731         NaN           기타 미용업  -2000.000000  \n",
       "831         NaN           기타 미용업    -85.714286  \n",
       "944         NaN           기타 미용업    -57.142857  \n",
       "...         ...              ...           ...  \n",
       "6556242  제주 제주시           기타 주점업 -13428.571429  \n",
       "6556448  제주 제주시           기타 주점업  -6928.571429  \n",
       "6556485  제주 제주시           기타 주점업  -5571.428571  \n",
       "6556489  제주 제주시           기타 주점업  -8571.428571  \n",
       "6556608  제주 제주시           기타 주점업  -4500.000000  \n",
       "\n",
       "[73100 rows x 8 columns]"
      ]
     },
     "execution_count": 20,
     "metadata": {},
     "output_type": "execute_result"
    }
   ],
   "source": [
    "df[df.amount<0]\n",
    "# -는 환불금액 -> 다루기 까다로움"
   ]
  },
  {
   "cell_type": "markdown",
   "metadata": {},
   "source": [
    "### 마이너스 금액 발생 원인 파악"
   ]
  },
  {
   "cell_type": "code",
   "execution_count": 21,
   "metadata": {},
   "outputs": [
    {
     "data": {
      "text/html": [
       "<div>\n",
       "<style scoped>\n",
       "    .dataframe tbody tr th:only-of-type {\n",
       "        vertical-align: middle;\n",
       "    }\n",
       "\n",
       "    .dataframe tbody tr th {\n",
       "        vertical-align: top;\n",
       "    }\n",
       "\n",
       "    .dataframe thead th {\n",
       "        text-align: right;\n",
       "    }\n",
       "</style>\n",
       "<table border=\"1\" class=\"dataframe\">\n",
       "  <thead>\n",
       "    <tr style=\"text-align: right;\">\n",
       "      <th></th>\n",
       "      <th>store_id</th>\n",
       "      <th>card_id</th>\n",
       "      <th>card_company</th>\n",
       "      <th>transacted_date</th>\n",
       "      <th>installment_term</th>\n",
       "      <th>region</th>\n",
       "      <th>type_of_business</th>\n",
       "      <th>amount</th>\n",
       "    </tr>\n",
       "  </thead>\n",
       "  <tbody>\n",
       "    <tr>\n",
       "      <td>257</td>\n",
       "      <td>0</td>\n",
       "      <td>230</td>\n",
       "      <td>b</td>\n",
       "      <td>2016-07-20 13:17:00</td>\n",
       "      <td>0</td>\n",
       "      <td>NaN</td>\n",
       "      <td>기타 미용업</td>\n",
       "      <td>8571.428571</td>\n",
       "    </tr>\n",
       "    <tr>\n",
       "      <td>521</td>\n",
       "      <td>0</td>\n",
       "      <td>230</td>\n",
       "      <td>b</td>\n",
       "      <td>2016-09-05 20:15:00</td>\n",
       "      <td>0</td>\n",
       "      <td>NaN</td>\n",
       "      <td>기타 미용업</td>\n",
       "      <td>11428.571429</td>\n",
       "    </tr>\n",
       "    <tr>\n",
       "      <td>830</td>\n",
       "      <td>0</td>\n",
       "      <td>230</td>\n",
       "      <td>b</td>\n",
       "      <td>2016-11-03 15:36:00</td>\n",
       "      <td>0</td>\n",
       "      <td>NaN</td>\n",
       "      <td>기타 미용업</td>\n",
       "      <td>85.714286</td>\n",
       "    </tr>\n",
       "    <tr>\n",
       "      <td>831</td>\n",
       "      <td>0</td>\n",
       "      <td>230</td>\n",
       "      <td>b</td>\n",
       "      <td>2016-11-03 15:36:00</td>\n",
       "      <td>0</td>\n",
       "      <td>NaN</td>\n",
       "      <td>기타 미용업</td>\n",
       "      <td>-85.714286</td>\n",
       "    </tr>\n",
       "    <tr>\n",
       "      <td>832</td>\n",
       "      <td>0</td>\n",
       "      <td>230</td>\n",
       "      <td>b</td>\n",
       "      <td>2016-11-03 15:37:00</td>\n",
       "      <td>0</td>\n",
       "      <td>NaN</td>\n",
       "      <td>기타 미용업</td>\n",
       "      <td>8571.428571</td>\n",
       "    </tr>\n",
       "    <tr>\n",
       "      <td>1089</td>\n",
       "      <td>0</td>\n",
       "      <td>230</td>\n",
       "      <td>b</td>\n",
       "      <td>2016-12-30 15:50:00</td>\n",
       "      <td>0</td>\n",
       "      <td>NaN</td>\n",
       "      <td>기타 미용업</td>\n",
       "      <td>11428.571429</td>\n",
       "    </tr>\n",
       "    <tr>\n",
       "      <td>1298</td>\n",
       "      <td>0</td>\n",
       "      <td>230</td>\n",
       "      <td>b</td>\n",
       "      <td>2017-02-16 15:31:00</td>\n",
       "      <td>0</td>\n",
       "      <td>NaN</td>\n",
       "      <td>기타 미용업</td>\n",
       "      <td>8571.428571</td>\n",
       "    </tr>\n",
       "    <tr>\n",
       "      <td>1610</td>\n",
       "      <td>0</td>\n",
       "      <td>230</td>\n",
       "      <td>b</td>\n",
       "      <td>2017-04-27 17:35:00</td>\n",
       "      <td>0</td>\n",
       "      <td>NaN</td>\n",
       "      <td>기타 미용업</td>\n",
       "      <td>8571.428571</td>\n",
       "    </tr>\n",
       "    <tr>\n",
       "      <td>1738</td>\n",
       "      <td>0</td>\n",
       "      <td>230</td>\n",
       "      <td>b</td>\n",
       "      <td>2017-05-25 18:22:00</td>\n",
       "      <td>0</td>\n",
       "      <td>NaN</td>\n",
       "      <td>기타 미용업</td>\n",
       "      <td>11428.571429</td>\n",
       "    </tr>\n",
       "    <tr>\n",
       "      <td>1926</td>\n",
       "      <td>0</td>\n",
       "      <td>230</td>\n",
       "      <td>b</td>\n",
       "      <td>2017-07-06 15:06:00</td>\n",
       "      <td>0</td>\n",
       "      <td>NaN</td>\n",
       "      <td>기타 미용업</td>\n",
       "      <td>8571.428571</td>\n",
       "    </tr>\n",
       "    <tr>\n",
       "      <td>2108</td>\n",
       "      <td>0</td>\n",
       "      <td>230</td>\n",
       "      <td>b</td>\n",
       "      <td>2017-08-18 18:02:00</td>\n",
       "      <td>0</td>\n",
       "      <td>NaN</td>\n",
       "      <td>기타 미용업</td>\n",
       "      <td>11428.571429</td>\n",
       "    </tr>\n",
       "    <tr>\n",
       "      <td>2479</td>\n",
       "      <td>0</td>\n",
       "      <td>230</td>\n",
       "      <td>b</td>\n",
       "      <td>2017-11-10 17:07:00</td>\n",
       "      <td>0</td>\n",
       "      <td>NaN</td>\n",
       "      <td>기타 미용업</td>\n",
       "      <td>11428.571429</td>\n",
       "    </tr>\n",
       "    <tr>\n",
       "      <td>2687</td>\n",
       "      <td>0</td>\n",
       "      <td>230</td>\n",
       "      <td>b</td>\n",
       "      <td>2017-12-28 15:16:00</td>\n",
       "      <td>0</td>\n",
       "      <td>NaN</td>\n",
       "      <td>기타 미용업</td>\n",
       "      <td>8571.428571</td>\n",
       "    </tr>\n",
       "  </tbody>\n",
       "</table>\n",
       "</div>"
      ],
      "text/plain": [
       "      store_id  card_id card_company     transacted_date  installment_term  \\\n",
       "257          0      230            b 2016-07-20 13:17:00                 0   \n",
       "521          0      230            b 2016-09-05 20:15:00                 0   \n",
       "830          0      230            b 2016-11-03 15:36:00                 0   \n",
       "831          0      230            b 2016-11-03 15:36:00                 0   \n",
       "832          0      230            b 2016-11-03 15:37:00                 0   \n",
       "1089         0      230            b 2016-12-30 15:50:00                 0   \n",
       "1298         0      230            b 2017-02-16 15:31:00                 0   \n",
       "1610         0      230            b 2017-04-27 17:35:00                 0   \n",
       "1738         0      230            b 2017-05-25 18:22:00                 0   \n",
       "1926         0      230            b 2017-07-06 15:06:00                 0   \n",
       "2108         0      230            b 2017-08-18 18:02:00                 0   \n",
       "2479         0      230            b 2017-11-10 17:07:00                 0   \n",
       "2687         0      230            b 2017-12-28 15:16:00                 0   \n",
       "\n",
       "     region type_of_business        amount  \n",
       "257     NaN           기타 미용업   8571.428571  \n",
       "521     NaN           기타 미용업  11428.571429  \n",
       "830     NaN           기타 미용업     85.714286  \n",
       "831     NaN           기타 미용업    -85.714286  \n",
       "832     NaN           기타 미용업   8571.428571  \n",
       "1089    NaN           기타 미용업  11428.571429  \n",
       "1298    NaN           기타 미용업   8571.428571  \n",
       "1610    NaN           기타 미용업   8571.428571  \n",
       "1738    NaN           기타 미용업  11428.571429  \n",
       "1926    NaN           기타 미용업   8571.428571  \n",
       "2108    NaN           기타 미용업  11428.571429  \n",
       "2479    NaN           기타 미용업  11428.571429  \n",
       "2687    NaN           기타 미용업   8571.428571  "
      ]
     },
     "execution_count": 21,
     "metadata": {},
     "output_type": "execute_result"
    }
   ],
   "source": [
    "df[(df.store_id==0)&(df.card_id==230)]\n",
    "# 실제로 830과 831, 832번 인덱스를 보면 구매 즉시 취소후 재결제"
   ]
  },
  {
   "cell_type": "code",
   "execution_count": 22,
   "metadata": {},
   "outputs": [
    {
     "data": {
      "text/html": [
       "<div>\n",
       "<style scoped>\n",
       "    .dataframe tbody tr th:only-of-type {\n",
       "        vertical-align: middle;\n",
       "    }\n",
       "\n",
       "    .dataframe tbody tr th {\n",
       "        vertical-align: top;\n",
       "    }\n",
       "\n",
       "    .dataframe thead th {\n",
       "        text-align: right;\n",
       "    }\n",
       "</style>\n",
       "<table border=\"1\" class=\"dataframe\">\n",
       "  <thead>\n",
       "    <tr style=\"text-align: right;\">\n",
       "      <th></th>\n",
       "      <th>store_id</th>\n",
       "      <th>card_id</th>\n",
       "      <th>card_company</th>\n",
       "      <th>transacted_date</th>\n",
       "      <th>installment_term</th>\n",
       "      <th>region</th>\n",
       "      <th>type_of_business</th>\n",
       "      <th>amount</th>\n",
       "    </tr>\n",
       "  </thead>\n",
       "  <tbody>\n",
       "    <tr>\n",
       "      <td>730</td>\n",
       "      <td>0</td>\n",
       "      <td>473</td>\n",
       "      <td>g</td>\n",
       "      <td>2016-10-17 10:30:00</td>\n",
       "      <td>0</td>\n",
       "      <td>NaN</td>\n",
       "      <td>기타 미용업</td>\n",
       "      <td>2000.0</td>\n",
       "    </tr>\n",
       "    <tr>\n",
       "      <td>731</td>\n",
       "      <td>0</td>\n",
       "      <td>473</td>\n",
       "      <td>g</td>\n",
       "      <td>2016-10-17 10:32:00</td>\n",
       "      <td>0</td>\n",
       "      <td>NaN</td>\n",
       "      <td>기타 미용업</td>\n",
       "      <td>-2000.0</td>\n",
       "    </tr>\n",
       "  </tbody>\n",
       "</table>\n",
       "</div>"
      ],
      "text/plain": [
       "     store_id  card_id card_company     transacted_date  installment_term  \\\n",
       "730         0      473            g 2016-10-17 10:30:00                 0   \n",
       "731         0      473            g 2016-10-17 10:32:00                 0   \n",
       "\n",
       "    region type_of_business  amount  \n",
       "730    NaN           기타 미용업  2000.0  \n",
       "731    NaN           기타 미용업 -2000.0  "
      ]
     },
     "execution_count": 22,
     "metadata": {},
     "output_type": "execute_result"
    }
   ],
   "source": [
    "df[(df.store_id==0)&(df.card_id==473)]\n",
    "# 이 경우에는 구매 후 환불한 듯"
   ]
  },
  {
   "cell_type": "code",
   "execution_count": 23,
   "metadata": {},
   "outputs": [
    {
     "data": {
      "text/html": [
       "<div>\n",
       "<style scoped>\n",
       "    .dataframe tbody tr th:only-of-type {\n",
       "        vertical-align: middle;\n",
       "    }\n",
       "\n",
       "    .dataframe tbody tr th {\n",
       "        vertical-align: top;\n",
       "    }\n",
       "\n",
       "    .dataframe thead th {\n",
       "        text-align: right;\n",
       "    }\n",
       "</style>\n",
       "<table border=\"1\" class=\"dataframe\">\n",
       "  <thead>\n",
       "    <tr style=\"text-align: right;\">\n",
       "      <th></th>\n",
       "      <th>store_id</th>\n",
       "      <th>card_id</th>\n",
       "      <th>card_company</th>\n",
       "      <th>transacted_date</th>\n",
       "      <th>installment_term</th>\n",
       "      <th>region</th>\n",
       "      <th>type_of_business</th>\n",
       "      <th>amount</th>\n",
       "    </tr>\n",
       "  </thead>\n",
       "  <tbody>\n",
       "    <tr>\n",
       "      <td>6556241</td>\n",
       "      <td>2136</td>\n",
       "      <td>4663626</td>\n",
       "      <td>b</td>\n",
       "      <td>2019-02-01 21:17:00</td>\n",
       "      <td>0</td>\n",
       "      <td>제주 제주시</td>\n",
       "      <td>기타 주점업</td>\n",
       "      <td>13428.571429</td>\n",
       "    </tr>\n",
       "    <tr>\n",
       "      <td>6556242</td>\n",
       "      <td>2136</td>\n",
       "      <td>4663626</td>\n",
       "      <td>b</td>\n",
       "      <td>2019-02-01 21:19:00</td>\n",
       "      <td>0</td>\n",
       "      <td>제주 제주시</td>\n",
       "      <td>기타 주점업</td>\n",
       "      <td>-13428.571429</td>\n",
       "    </tr>\n",
       "    <tr>\n",
       "      <td>6556243</td>\n",
       "      <td>2136</td>\n",
       "      <td>4663626</td>\n",
       "      <td>b</td>\n",
       "      <td>2019-02-01 21:20:00</td>\n",
       "      <td>0</td>\n",
       "      <td>제주 제주시</td>\n",
       "      <td>기타 주점업</td>\n",
       "      <td>12571.428571</td>\n",
       "    </tr>\n",
       "  </tbody>\n",
       "</table>\n",
       "</div>"
      ],
      "text/plain": [
       "         store_id  card_id card_company     transacted_date  installment_term  \\\n",
       "6556241      2136  4663626            b 2019-02-01 21:17:00                 0   \n",
       "6556242      2136  4663626            b 2019-02-01 21:19:00                 0   \n",
       "6556243      2136  4663626            b 2019-02-01 21:20:00                 0   \n",
       "\n",
       "         region type_of_business        amount  \n",
       "6556241  제주 제주시           기타 주점업  13428.571429  \n",
       "6556242  제주 제주시           기타 주점업 -13428.571429  \n",
       "6556243  제주 제주시           기타 주점업  12571.428571  "
      ]
     },
     "execution_count": 23,
     "metadata": {},
     "output_type": "execute_result"
    }
   ],
   "source": [
    "df[(df.store_id==2136)&(df.card_id==4663626)]\n",
    "# 이 경우에는 금액을 잘못 결제한 듯"
   ]
  },
  {
   "cell_type": "markdown",
   "metadata": {},
   "source": [
    "### 마이너스 금액을 제대로 이해하기 위해 로그 적용"
   ]
  },
  {
   "cell_type": "code",
   "execution_count": 24,
   "metadata": {},
   "outputs": [
    {
     "data": {
      "text/plain": [
       "<matplotlib.axes._subplots.AxesSubplot at 0x29d06ddc848>"
      ]
     },
     "execution_count": 24,
     "metadata": {},
     "output_type": "execute_result"
    },
    {
     "data": {
      "image/png": "[encoded data removed]",
      "text/plain": [
       "<Figure size 432x288 with 1 Axes>"
      ]
     },
     "metadata": {
      "needs_background": "light"
     },
     "output_type": "display_data"
    }
   ],
   "source": [
    "df.loc[df.amount>0, 'amount'].apply(np.log).hist()\n",
    "# df.amount>0인 이유는 0보다 작거나 같으면 로그가 쓰워지지 않으므로\n",
    "# 7~10 사이로 몰린 것 확인할 수 있음"
   ]
  },
  {
   "cell_type": "code",
   "execution_count": 25,
   "metadata": {},
   "outputs": [
    {
     "data": {
      "text/plain": [
       "1096.6331584284585"
      ]
     },
     "execution_count": 25,
     "metadata": {},
     "output_type": "execute_result"
    }
   ],
   "source": [
    "# 7인 가격 확인\n",
    "np.exp(7)\n",
    "# 1000원에 몰림"
   ]
  },
  {
   "cell_type": "code",
   "execution_count": 26,
   "metadata": {},
   "outputs": [
    {
     "data": {
      "text/plain": [
       "22026.465794806718"
      ]
     },
     "execution_count": 26,
     "metadata": {},
     "output_type": "execute_result"
    }
   ],
   "source": [
    "# 10인 가격 확인\n",
    "np.exp(10)  \n",
    "# 2만원에 몰림"
   ]
  },
  {
   "cell_type": "code",
   "execution_count": 27,
   "metadata": {},
   "outputs": [
    {
     "name": "stderr",
     "output_type": "stream",
     "text": [
      "C:\\Anaconda3\\lib\\site-packages\\pandas\\core\\indexing.py:961: FutureWarning: \n",
      "Passing list-likes to .loc or [] with any missing label will raise\n",
      "KeyError in the future, you can use .reindex() as an alternative.\n",
      "\n",
      "See the documentation here:\n",
      "https://pandas.pydata.org/pandas-docs/stable/user_guide/indexing.html#deprecate-loc-reindex-listlike\n",
      "  return getattr(section, self.name)[new_key]\n"
     ]
    },
    {
     "data": {
      "text/plain": [
       "<matplotlib.axes._subplots.AxesSubplot at 0x29d5832d848>"
      ]
     },
     "execution_count": 27,
     "metadata": {},
     "output_type": "execute_result"
    },
    {
     "data": {
      "image/png": "[encoded data removed]",
      "text/plain": [
       "<Figure size 432x288 with 1 Axes>"
      ]
     },
     "metadata": {
      "needs_background": "light"
     },
     "output_type": "display_data"
    }
   ],
   "source": [
    "(-df.loc[df.amount-0, 'amount']).apply(np.log).hist()\n",
    "# 혹시 몰라서 0보다 작음 금액도 확인\n",
    "# 금액 분포는 0보다 클 때랑 비슷함"
   ]
  },
  {
   "cell_type": "code",
   "execution_count": 28,
   "metadata": {},
   "outputs": [
    {
     "data": {
      "text/html": [
       "<div>\n",
       "<style scoped>\n",
       "    .dataframe tbody tr th:only-of-type {\n",
       "        vertical-align: middle;\n",
       "    }\n",
       "\n",
       "    .dataframe tbody tr th {\n",
       "        vertical-align: top;\n",
       "    }\n",
       "\n",
       "    .dataframe thead th {\n",
       "        text-align: right;\n",
       "    }\n",
       "</style>\n",
       "<table border=\"1\" class=\"dataframe\">\n",
       "  <thead>\n",
       "    <tr style=\"text-align: right;\">\n",
       "      <th></th>\n",
       "      <th>store_id</th>\n",
       "      <th>card_id</th>\n",
       "      <th>card_company</th>\n",
       "      <th>transacted_date</th>\n",
       "      <th>installment_term</th>\n",
       "      <th>region</th>\n",
       "      <th>type_of_business</th>\n",
       "      <th>amount</th>\n",
       "    </tr>\n",
       "  </thead>\n",
       "  <tbody>\n",
       "    <tr>\n",
       "      <td>4889632</td>\n",
       "      <td>1605</td>\n",
       "      <td>3478121</td>\n",
       "      <td>h</td>\n",
       "      <td>2016-06-11 13:45:00</td>\n",
       "      <td>0</td>\n",
       "      <td>경남 김해시</td>\n",
       "      <td>NaN</td>\n",
       "      <td>0.0</td>\n",
       "    </tr>\n",
       "    <tr>\n",
       "      <td>4889649</td>\n",
       "      <td>1605</td>\n",
       "      <td>3478137</td>\n",
       "      <td>h</td>\n",
       "      <td>2016-06-14 13:30:00</td>\n",
       "      <td>0</td>\n",
       "      <td>경남 김해시</td>\n",
       "      <td>NaN</td>\n",
       "      <td>0.0</td>\n",
       "    </tr>\n",
       "    <tr>\n",
       "      <td>4889743</td>\n",
       "      <td>1605</td>\n",
       "      <td>3478221</td>\n",
       "      <td>h</td>\n",
       "      <td>2016-06-28 13:46:00</td>\n",
       "      <td>0</td>\n",
       "      <td>경남 김해시</td>\n",
       "      <td>NaN</td>\n",
       "      <td>0.0</td>\n",
       "    </tr>\n",
       "    <tr>\n",
       "      <td>4889852</td>\n",
       "      <td>1605</td>\n",
       "      <td>3478143</td>\n",
       "      <td>h</td>\n",
       "      <td>2016-07-16 11:28:00</td>\n",
       "      <td>0</td>\n",
       "      <td>경남 김해시</td>\n",
       "      <td>NaN</td>\n",
       "      <td>0.0</td>\n",
       "    </tr>\n",
       "    <tr>\n",
       "      <td>4890137</td>\n",
       "      <td>1605</td>\n",
       "      <td>3478563</td>\n",
       "      <td>h</td>\n",
       "      <td>2016-08-23 15:46:00</td>\n",
       "      <td>0</td>\n",
       "      <td>경남 김해시</td>\n",
       "      <td>NaN</td>\n",
       "      <td>0.0</td>\n",
       "    </tr>\n",
       "    <tr>\n",
       "      <td>...</td>\n",
       "      <td>...</td>\n",
       "      <td>...</td>\n",
       "      <td>...</td>\n",
       "      <td>...</td>\n",
       "      <td>...</td>\n",
       "      <td>...</td>\n",
       "      <td>...</td>\n",
       "      <td>...</td>\n",
       "    </tr>\n",
       "    <tr>\n",
       "      <td>4894919</td>\n",
       "      <td>1605</td>\n",
       "      <td>3478871</td>\n",
       "      <td>h</td>\n",
       "      <td>2018-10-31 14:08:00</td>\n",
       "      <td>0</td>\n",
       "      <td>경남 김해시</td>\n",
       "      <td>NaN</td>\n",
       "      <td>0.0</td>\n",
       "    </tr>\n",
       "    <tr>\n",
       "      <td>4895176</td>\n",
       "      <td>1605</td>\n",
       "      <td>3478396</td>\n",
       "      <td>h</td>\n",
       "      <td>2018-12-28 13:15:00</td>\n",
       "      <td>0</td>\n",
       "      <td>경남 김해시</td>\n",
       "      <td>NaN</td>\n",
       "      <td>0.0</td>\n",
       "    </tr>\n",
       "    <tr>\n",
       "      <td>4895382</td>\n",
       "      <td>1605</td>\n",
       "      <td>3481861</td>\n",
       "      <td>h</td>\n",
       "      <td>2019-02-07 10:03:00</td>\n",
       "      <td>0</td>\n",
       "      <td>경남 김해시</td>\n",
       "      <td>NaN</td>\n",
       "      <td>0.0</td>\n",
       "    </tr>\n",
       "    <tr>\n",
       "      <td>4895480</td>\n",
       "      <td>1605</td>\n",
       "      <td>3481328</td>\n",
       "      <td>h</td>\n",
       "      <td>2019-02-23 14:25:00</td>\n",
       "      <td>0</td>\n",
       "      <td>경남 김해시</td>\n",
       "      <td>NaN</td>\n",
       "      <td>0.0</td>\n",
       "    </tr>\n",
       "    <tr>\n",
       "      <td>5864881</td>\n",
       "      <td>1932</td>\n",
       "      <td>4168779</td>\n",
       "      <td>e</td>\n",
       "      <td>2018-09-14 21:51:00</td>\n",
       "      <td>0</td>\n",
       "      <td>NaN</td>\n",
       "      <td>NaN</td>\n",
       "      <td>0.0</td>\n",
       "    </tr>\n",
       "  </tbody>\n",
       "</table>\n",
       "<p>80 rows × 8 columns</p>\n",
       "</div>"
      ],
      "text/plain": [
       "         store_id  card_id card_company     transacted_date  installment_term  \\\n",
       "4889632      1605  3478121            h 2016-06-11 13:45:00                 0   \n",
       "4889649      1605  3478137            h 2016-06-14 13:30:00                 0   \n",
       "4889743      1605  3478221            h 2016-06-28 13:46:00                 0   \n",
       "4889852      1605  3478143            h 2016-07-16 11:28:00                 0   \n",
       "4890137      1605  3478563            h 2016-08-23 15:46:00                 0   \n",
       "...           ...      ...          ...                 ...               ...   \n",
       "4894919      1605  3478871            h 2018-10-31 14:08:00                 0   \n",
       "4895176      1605  3478396            h 2018-12-28 13:15:00                 0   \n",
       "4895382      1605  3481861            h 2019-02-07 10:03:00                 0   \n",
       "4895480      1605  3481328            h 2019-02-23 14:25:00                 0   \n",
       "5864881      1932  4168779            e 2018-09-14 21:51:00                 0   \n",
       "\n",
       "         region type_of_business  amount  \n",
       "4889632  경남 김해시              NaN     0.0  \n",
       "4889649  경남 김해시              NaN     0.0  \n",
       "4889743  경남 김해시              NaN     0.0  \n",
       "4889852  경남 김해시              NaN     0.0  \n",
       "4890137  경남 김해시              NaN     0.0  \n",
       "...         ...              ...     ...  \n",
       "4894919  경남 김해시              NaN     0.0  \n",
       "4895176  경남 김해시              NaN     0.0  \n",
       "4895382  경남 김해시              NaN     0.0  \n",
       "4895480  경남 김해시              NaN     0.0  \n",
       "5864881     NaN              NaN     0.0  \n",
       "\n",
       "[80 rows x 8 columns]"
      ]
     },
     "execution_count": 28,
     "metadata": {},
     "output_type": "execute_result"
    }
   ],
   "source": [
    "df[df.amount==0]\n",
    "# 금액이 0인 것도 나중에 제외해줘야 함"
   ]
  },
  {
   "cell_type": "markdown",
   "metadata": {},
   "source": [
    "# 2. Baseline model"
   ]
  },
  {
   "cell_type": "markdown",
   "metadata": {},
   "source": [
    "## 2.1 최근 3개월 데이터 추출\n",
    "- 최근 3개월치 데이터로 미래 3개월을 예측하기로 함\n",
    "- 최근 3개월의 매출이 미래 3개월의 매출과 비슷하겠지라고 가정한 상태"
   ]
  },
  {
   "cell_type": "code",
   "execution_count": 29,
   "metadata": {},
   "outputs": [
    {
     "data": {
      "text/html": [
       "<div>\n",
       "<style scoped>\n",
       "    .dataframe tbody tr th:only-of-type {\n",
       "        vertical-align: middle;\n",
       "    }\n",
       "\n",
       "    .dataframe tbody tr th {\n",
       "        vertical-align: top;\n",
       "    }\n",
       "\n",
       "    .dataframe thead th {\n",
       "        text-align: right;\n",
       "    }\n",
       "</style>\n",
       "<table border=\"1\" class=\"dataframe\">\n",
       "  <thead>\n",
       "    <tr style=\"text-align: right;\">\n",
       "      <th></th>\n",
       "      <th>store_id</th>\n",
       "      <th>card_id</th>\n",
       "      <th>card_company</th>\n",
       "      <th>transacted_date</th>\n",
       "      <th>installment_term</th>\n",
       "      <th>region</th>\n",
       "      <th>type_of_business</th>\n",
       "      <th>amount</th>\n",
       "    </tr>\n",
       "  </thead>\n",
       "  <tbody>\n",
       "    <tr>\n",
       "      <td>4099</td>\n",
       "      <td>0</td>\n",
       "      <td>1677</td>\n",
       "      <td>f</td>\n",
       "      <td>2018-12-01 12:13:00</td>\n",
       "      <td>0</td>\n",
       "      <td>NaN</td>\n",
       "      <td>기타 미용업</td>\n",
       "      <td>7142.857143</td>\n",
       "    </tr>\n",
       "    <tr>\n",
       "      <td>4100</td>\n",
       "      <td>0</td>\n",
       "      <td>1416</td>\n",
       "      <td>c</td>\n",
       "      <td>2018-12-01 13:34:00</td>\n",
       "      <td>0</td>\n",
       "      <td>NaN</td>\n",
       "      <td>기타 미용업</td>\n",
       "      <td>2000.000000</td>\n",
       "    </tr>\n",
       "    <tr>\n",
       "      <td>4101</td>\n",
       "      <td>0</td>\n",
       "      <td>1678</td>\n",
       "      <td>b</td>\n",
       "      <td>2018-12-01 14:04:00</td>\n",
       "      <td>0</td>\n",
       "      <td>NaN</td>\n",
       "      <td>기타 미용업</td>\n",
       "      <td>2000.000000</td>\n",
       "    </tr>\n",
       "    <tr>\n",
       "      <td>4102</td>\n",
       "      <td>0</td>\n",
       "      <td>1679</td>\n",
       "      <td>b</td>\n",
       "      <td>2018-12-01 14:20:00</td>\n",
       "      <td>0</td>\n",
       "      <td>NaN</td>\n",
       "      <td>기타 미용업</td>\n",
       "      <td>2000.000000</td>\n",
       "    </tr>\n",
       "    <tr>\n",
       "      <td>4103</td>\n",
       "      <td>0</td>\n",
       "      <td>1644</td>\n",
       "      <td>a</td>\n",
       "      <td>2018-12-01 15:43:00</td>\n",
       "      <td>0</td>\n",
       "      <td>NaN</td>\n",
       "      <td>기타 미용업</td>\n",
       "      <td>1857.142857</td>\n",
       "    </tr>\n",
       "    <tr>\n",
       "      <td>...</td>\n",
       "      <td>...</td>\n",
       "      <td>...</td>\n",
       "      <td>...</td>\n",
       "      <td>...</td>\n",
       "      <td>...</td>\n",
       "      <td>...</td>\n",
       "      <td>...</td>\n",
       "      <td>...</td>\n",
       "    </tr>\n",
       "    <tr>\n",
       "      <td>6556608</td>\n",
       "      <td>2136</td>\n",
       "      <td>4663855</td>\n",
       "      <td>d</td>\n",
       "      <td>2019-02-28 23:20:00</td>\n",
       "      <td>0</td>\n",
       "      <td>제주 제주시</td>\n",
       "      <td>기타 주점업</td>\n",
       "      <td>-4500.000000</td>\n",
       "    </tr>\n",
       "    <tr>\n",
       "      <td>6556609</td>\n",
       "      <td>2136</td>\n",
       "      <td>4663855</td>\n",
       "      <td>d</td>\n",
       "      <td>2019-02-28 23:24:00</td>\n",
       "      <td>0</td>\n",
       "      <td>제주 제주시</td>\n",
       "      <td>기타 주점업</td>\n",
       "      <td>4142.857143</td>\n",
       "    </tr>\n",
       "    <tr>\n",
       "      <td>6556610</td>\n",
       "      <td>2136</td>\n",
       "      <td>4663489</td>\n",
       "      <td>a</td>\n",
       "      <td>2019-02-28 23:24:00</td>\n",
       "      <td>0</td>\n",
       "      <td>제주 제주시</td>\n",
       "      <td>기타 주점업</td>\n",
       "      <td>4500.000000</td>\n",
       "    </tr>\n",
       "    <tr>\n",
       "      <td>6556611</td>\n",
       "      <td>2136</td>\n",
       "      <td>4663856</td>\n",
       "      <td>d</td>\n",
       "      <td>2019-02-28 23:27:00</td>\n",
       "      <td>0</td>\n",
       "      <td>제주 제주시</td>\n",
       "      <td>기타 주점업</td>\n",
       "      <td>571.428571</td>\n",
       "    </tr>\n",
       "    <tr>\n",
       "      <td>6556612</td>\n",
       "      <td>2136</td>\n",
       "      <td>4658616</td>\n",
       "      <td>c</td>\n",
       "      <td>2019-02-28 23:54:00</td>\n",
       "      <td>0</td>\n",
       "      <td>제주 제주시</td>\n",
       "      <td>기타 주점업</td>\n",
       "      <td>5857.142857</td>\n",
       "    </tr>\n",
       "  </tbody>\n",
       "</table>\n",
       "<p>573921 rows × 8 columns</p>\n",
       "</div>"
      ],
      "text/plain": [
       "         store_id  card_id card_company     transacted_date  installment_term  \\\n",
       "4099            0     1677            f 2018-12-01 12:13:00                 0   \n",
       "4100            0     1416            c 2018-12-01 13:34:00                 0   \n",
       "4101            0     1678            b 2018-12-01 14:04:00                 0   \n",
       "4102            0     1679            b 2018-12-01 14:20:00                 0   \n",
       "4103            0     1644            a 2018-12-01 15:43:00                 0   \n",
       "...           ...      ...          ...                 ...               ...   \n",
       "6556608      2136  4663855            d 2019-02-28 23:20:00                 0   \n",
       "6556609      2136  4663855            d 2019-02-28 23:24:00                 0   \n",
       "6556610      2136  4663489            a 2019-02-28 23:24:00                 0   \n",
       "6556611      2136  4663856            d 2019-02-28 23:27:00                 0   \n",
       "6556612      2136  4658616            c 2019-02-28 23:54:00                 0   \n",
       "\n",
       "         region type_of_business       amount  \n",
       "4099        NaN           기타 미용업  7142.857143  \n",
       "4100        NaN           기타 미용업  2000.000000  \n",
       "4101        NaN           기타 미용업  2000.000000  \n",
       "4102        NaN           기타 미용업  2000.000000  \n",
       "4103        NaN           기타 미용업  1857.142857  \n",
       "...         ...              ...          ...  \n",
       "6556608  제주 제주시           기타 주점업 -4500.000000  \n",
       "6556609  제주 제주시           기타 주점업  4142.857143  \n",
       "6556610  제주 제주시           기타 주점업  4500.000000  \n",
       "6556611  제주 제주시           기타 주점업   571.428571  \n",
       "6556612  제주 제주시           기타 주점업  5857.142857  \n",
       "\n",
       "[573921 rows x 8 columns]"
      ]
     },
     "execution_count": 29,
     "metadata": {},
     "output_type": "execute_result"
    }
   ],
   "source": [
    "# 최근 3개월 데이터 추출\n",
    "import datetime\n",
    "recent_df = df[df.transacted_date >= datetime.datetime(2018, 12, 1)]\n",
    "recent_df"
   ]
  },
  {
   "cell_type": "code",
   "execution_count": 30,
   "metadata": {},
   "outputs": [
    {
     "data": {
      "text/plain": [
       "12    206294\n",
       "1     194513\n",
       "2     173114\n",
       "Name: transacted_date, dtype: int64"
      ]
     },
     "execution_count": 30,
     "metadata": {},
     "output_type": "execute_result"
    }
   ],
   "source": [
    "# 월 단위로 데이터를 맞춰서 확인 -> 1/17이면 1/1로 맞춤\n",
    "recent_df.transacted_date.dt.month.value_counts()\n",
    "# 3개월 데이터인 것 확인"
   ]
  },
  {
   "cell_type": "code",
   "execution_count": 31,
   "metadata": {},
   "outputs": [
    {
     "data": {
      "text/plain": [
       "201812    206294\n",
       "201901    194513\n",
       "201902    173114\n",
       "Name: transacted_date, dtype: int64"
      ]
     },
     "execution_count": 31,
     "metadata": {},
     "output_type": "execute_result"
    }
   ],
   "source": [
    "recent_df.transacted_date.dt.strftime(\"%Y%m\").value_counts() \n",
    "# 년도까지 같이 확인"
   ]
  },
  {
   "cell_type": "markdown",
   "metadata": {},
   "source": [
    "## 2.3 제출"
   ]
  },
  {
   "cell_type": "markdown",
   "metadata": {},
   "source": [
    "### 예측 결과"
   ]
  },
  {
   "cell_type": "code",
   "execution_count": 32,
   "metadata": {},
   "outputs": [
    {
     "data": {
      "text/html": [
       "<div>\n",
       "<style scoped>\n",
       "    .dataframe tbody tr th:only-of-type {\n",
       "        vertical-align: middle;\n",
       "    }\n",
       "\n",
       "    .dataframe tbody tr th {\n",
       "        vertical-align: top;\n",
       "    }\n",
       "\n",
       "    .dataframe thead th {\n",
       "        text-align: right;\n",
       "    }\n",
       "</style>\n",
       "<table border=\"1\" class=\"dataframe\">\n",
       "  <thead>\n",
       "    <tr style=\"text-align: right;\">\n",
       "      <th></th>\n",
       "      <th>store_id</th>\n",
       "      <th>amount</th>\n",
       "    </tr>\n",
       "  </thead>\n",
       "  <tbody>\n",
       "    <tr>\n",
       "      <td>0</td>\n",
       "      <td>0</td>\n",
       "      <td>2.072714e+06</td>\n",
       "    </tr>\n",
       "    <tr>\n",
       "      <td>1</td>\n",
       "      <td>1</td>\n",
       "      <td>3.110000e+05</td>\n",
       "    </tr>\n",
       "    <tr>\n",
       "      <td>2</td>\n",
       "      <td>2</td>\n",
       "      <td>1.245429e+06</td>\n",
       "    </tr>\n",
       "    <tr>\n",
       "      <td>3</td>\n",
       "      <td>4</td>\n",
       "      <td>2.751000e+06</td>\n",
       "    </tr>\n",
       "    <tr>\n",
       "      <td>4</td>\n",
       "      <td>5</td>\n",
       "      <td>9.380857e+05</td>\n",
       "    </tr>\n",
       "    <tr>\n",
       "      <td>...</td>\n",
       "      <td>...</td>\n",
       "      <td>...</td>\n",
       "    </tr>\n",
       "    <tr>\n",
       "      <td>1945</td>\n",
       "      <td>2132</td>\n",
       "      <td>1.675857e+06</td>\n",
       "    </tr>\n",
       "    <tr>\n",
       "      <td>1946</td>\n",
       "      <td>2133</td>\n",
       "      <td>2.002857e+05</td>\n",
       "    </tr>\n",
       "    <tr>\n",
       "      <td>1947</td>\n",
       "      <td>2134</td>\n",
       "      <td>3.797143e+05</td>\n",
       "    </tr>\n",
       "    <tr>\n",
       "      <td>1948</td>\n",
       "      <td>2135</td>\n",
       "      <td>1.408429e+06</td>\n",
       "    </tr>\n",
       "    <tr>\n",
       "      <td>1949</td>\n",
       "      <td>2136</td>\n",
       "      <td>6.528500e+06</td>\n",
       "    </tr>\n",
       "  </tbody>\n",
       "</table>\n",
       "<p>1950 rows × 2 columns</p>\n",
       "</div>"
      ],
      "text/plain": [
       "      store_id        amount\n",
       "0            0  2.072714e+06\n",
       "1            1  3.110000e+05\n",
       "2            2  1.245429e+06\n",
       "3            4  2.751000e+06\n",
       "4            5  9.380857e+05\n",
       "...        ...           ...\n",
       "1945      2132  1.675857e+06\n",
       "1946      2133  2.002857e+05\n",
       "1947      2134  3.797143e+05\n",
       "1948      2135  1.408429e+06\n",
       "1949      2136  6.528500e+06\n",
       "\n",
       "[1950 rows x 2 columns]"
      ]
     },
     "execution_count": 32,
     "metadata": {},
     "output_type": "execute_result"
    }
   ],
   "source": [
    "baseline_prediction = recent_df.groupby('store_id').amount.sum().reset_index(name='amount')\n",
    "baseline_prediction\n",
    "# 제출형태에 맞게 칼럼 이름 정의 및 형식 변환\n",
    "# amount가 부동소수점인 float인데 제출할 때 int로 변경해서 제출해야 할지는 의문"
   ]
  },
  {
   "cell_type": "markdown",
   "metadata": {},
   "source": [
    "### 제출 형식"
   ]
  },
  {
   "cell_type": "code",
   "execution_count": 34,
   "metadata": {},
   "outputs": [
    {
     "data": {
      "text/html": [
       "<div>\n",
       "<style scoped>\n",
       "    .dataframe tbody tr th:only-of-type {\n",
       "        vertical-align: middle;\n",
       "    }\n",
       "\n",
       "    .dataframe tbody tr th {\n",
       "        vertical-align: top;\n",
       "    }\n",
       "\n",
       "    .dataframe thead th {\n",
       "        text-align: right;\n",
       "    }\n",
       "</style>\n",
       "<table border=\"1\" class=\"dataframe\">\n",
       "  <thead>\n",
       "    <tr style=\"text-align: right;\">\n",
       "      <th></th>\n",
       "      <th>store_id</th>\n",
       "      <th>amount</th>\n",
       "    </tr>\n",
       "  </thead>\n",
       "  <tbody>\n",
       "    <tr>\n",
       "      <td>0</td>\n",
       "      <td>0</td>\n",
       "      <td>0</td>\n",
       "    </tr>\n",
       "    <tr>\n",
       "      <td>1</td>\n",
       "      <td>1</td>\n",
       "      <td>0</td>\n",
       "    </tr>\n",
       "    <tr>\n",
       "      <td>2</td>\n",
       "      <td>2</td>\n",
       "      <td>0</td>\n",
       "    </tr>\n",
       "    <tr>\n",
       "      <td>3</td>\n",
       "      <td>4</td>\n",
       "      <td>0</td>\n",
       "    </tr>\n",
       "    <tr>\n",
       "      <td>4</td>\n",
       "      <td>5</td>\n",
       "      <td>0</td>\n",
       "    </tr>\n",
       "    <tr>\n",
       "      <td>...</td>\n",
       "      <td>...</td>\n",
       "      <td>...</td>\n",
       "    </tr>\n",
       "    <tr>\n",
       "      <td>1962</td>\n",
       "      <td>2132</td>\n",
       "      <td>0</td>\n",
       "    </tr>\n",
       "    <tr>\n",
       "      <td>1963</td>\n",
       "      <td>2133</td>\n",
       "      <td>0</td>\n",
       "    </tr>\n",
       "    <tr>\n",
       "      <td>1964</td>\n",
       "      <td>2134</td>\n",
       "      <td>0</td>\n",
       "    </tr>\n",
       "    <tr>\n",
       "      <td>1965</td>\n",
       "      <td>2135</td>\n",
       "      <td>0</td>\n",
       "    </tr>\n",
       "    <tr>\n",
       "      <td>1966</td>\n",
       "      <td>2136</td>\n",
       "      <td>0</td>\n",
       "    </tr>\n",
       "  </tbody>\n",
       "</table>\n",
       "<p>1967 rows × 2 columns</p>\n",
       "</div>"
      ],
      "text/plain": [
       "      store_id  amount\n",
       "0            0       0\n",
       "1            1       0\n",
       "2            2       0\n",
       "3            4       0\n",
       "4            5       0\n",
       "...        ...     ...\n",
       "1962      2132       0\n",
       "1963      2133       0\n",
       "1964      2134       0\n",
       "1965      2135       0\n",
       "1966      2136       0\n",
       "\n",
       "[1967 rows x 2 columns]"
      ]
     },
     "execution_count": 34,
     "metadata": {},
     "output_type": "execute_result"
    }
   ],
   "source": [
    "os.chdir(r\"C:\\Users\\Gram\\Desktop\\스배데\\데이콘 상점 신용카드 매출 예측 경진대회\\data\")\n",
    "submit = pd.read_csv(\"submission.csv\")\n",
    "submit"
   ]
  },
  {
   "cell_type": "markdown",
   "metadata": {},
   "source": [
    "### 예측 결과를 제출 형식에 맞게 변환"
   ]
  },
  {
   "cell_type": "code",
   "execution_count": 35,
   "metadata": {},
   "outputs": [],
   "source": [
    "submit = submit[['store_id']].merge(baseline_prediction, on='store_id', how='left')\n",
    "# baseline_prediction에는 1950개인데 실제 제출할 submit은 1967개임 -> 17상점은 폐업하거나 매출이 발생하지 않았을 수 있음\n",
    "# 따라서 개수를 맞추기 위해 submit의 store_id개수에 맞게 baseline_prediction 데이터를 합침"
   ]
  },
  {
   "cell_type": "code",
   "execution_count": 36,
   "metadata": {},
   "outputs": [],
   "source": [
    "# 상점명 개수를 맞춘뒤 부족한 amount데이터는 0으로 채워줌\n",
    "submit.amount = submit.amount.fillna(0)"
   ]
  },
  {
   "cell_type": "code",
   "execution_count": 37,
   "metadata": {},
   "outputs": [
    {
     "data": {
      "text/plain": [
       "5659643.285714285"
      ]
     },
     "execution_count": 37,
     "metadata": {},
     "output_type": "execute_result"
    }
   ],
   "source": [
    "# submit.sample()에서 확인한 매출량과 같은지 확인\n",
    "recent_df.loc[recent_df.store_id == 460, 'amount'].sum()"
   ]
  },
  {
   "cell_type": "markdown",
   "metadata": {},
   "source": [
    "### 제출"
   ]
  },
  {
   "cell_type": "code",
   "execution_count": 39,
   "metadata": {},
   "outputs": [],
   "source": [
    "submit.to_csv(r\"C:\\Users\\Gram\\Desktop\\스배데\\데이콘 상점 신용카드 매출 예측 경진대회\\data/baseline_submit.csv\", index=False)"
   ]
  },
  {
   "cell_type": "markdown",
   "metadata": {},
   "source": [
    "**등수 : 48**<br>\n",
    "**점수 : 821368.34244**"
   ]
  }
 ],
 "metadata": {
  "hide_input": false,
  "kernelspec": {
   "display_name": "Python 3",
   "language": "python",
   "name": "python3"
  },
  "language_info": {
   "codemirror_mode": {
    "name": "ipython",
    "version": 3
   },
   "file_extension": ".py",
   "mimetype": "text/x-python",
   "name": "python",
   "nbconvert_exporter": "python",
   "pygments_lexer": "ipython3",
   "version": "3.7.4"
  },
  "toc": {
   "base_numbering": 1,
   "nav_menu": {},
   "number_sections": true,
   "sideBar": true,
   "skip_h1_title": false,
   "title_cell": "Table of Contents",
   "title_sidebar": "Contents",
   "toc_cell": false,
   "toc_position": {
    "height": "calc(100% - 180px)",
    "left": "10px",
    "top": "150px",
    "width": "315.819px"
   },
   "toc_section_display": true,
   "toc_window_display": false
  }
 },
 "nbformat": 4,
 "nbformat_minor": 2
}
